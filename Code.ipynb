{
  "nbformat": 4,
  "nbformat_minor": 0,
  "metadata": {
    "colab": {
      "name": "CoDoH.ipynb",
      "provenance": [],
      "collapsed_sections": [],
      "toc_visible": true
    },
    "kernelspec": {
      "name": "python3",
      "display_name": "Python 3"
    },
    "language_info": {
      "name": "python"
    }
  },
  "cells": [
    {
      "cell_type": "markdown",
      "metadata": {
        "id": "rhFnVb2ndj3U"
      },
      "source": [
        "# **CoDoH : Classification of DNS over HTTPS**"
      ]
    },
    {
      "cell_type": "markdown",
      "metadata": {
        "id": "apvjNoMTdwmC"
      },
      "source": [
        "1. EDM18B009 - C Siddarth\n",
        "2. EDM18B041 - Navaas Roshan A\n",
        "3. COE18B013 - D Balajee"
      ]
    },
    {
      "cell_type": "markdown",
      "metadata": {
        "id": "ts7cHhG-eaqw"
      },
      "source": [
        "## Import required libraries"
      ]
    },
    {
      "cell_type": "code",
      "metadata": {
        "id": "3bTF5P9T4D8w"
      },
      "source": [
        "import pandas as pd\n",
        "import numpy as np\n",
        "\n",
        "from matplotlib import pyplot as plt\n",
        "import seaborn as sns\n",
        "\n",
        "from sklearn.svm import SVC\n",
        "from sklearn.preprocessing import StandardScaler\n",
        "from sklearn.pipeline import make_pipeline\n",
        "from sklearn.metrics import classification_report\n",
        "\n",
        "from sklearn.metrics import classification_report\n",
        "\n",
        "import torch\n",
        "\n",
        "import warnings\n",
        "warnings.filterwarnings(\"ignore\")"
      ],
      "execution_count": 1,
      "outputs": []
    },
    {
      "cell_type": "markdown",
      "metadata": {
        "id": "j6ijc8QwXp1y"
      },
      "source": [
        "## Load all dataframes"
      ]
    },
    {
      "cell_type": "code",
      "metadata": {
        "id": "ZzmyZgEVFS5l"
      },
      "source": [
        "# Path to Non DoH csv\n",
        "path1 = '/content/drive/MyDrive/DCN/l1-nondoh.csv'\n",
        "\n",
        "# Path to Benign DoH csv\n",
        "path2 = '/content/drive/MyDrive/DCN/l2-benign.csv'\n",
        "\n",
        "# Path to Malicious DoH csv\n",
        "path3 = '/content/drive/MyDrive/DCN/l2-malicious.csv'"
      ],
      "execution_count": 2,
      "outputs": []
    },
    {
      "cell_type": "code",
      "metadata": {
        "id": "8lGnQ6044k3s"
      },
      "source": [
        "df1 = pd.read_csv(path1)\n",
        "df2 = pd.read_csv(path2)\n",
        "df3 = pd.read_csv(path3)"
      ],
      "execution_count": 3,
      "outputs": []
    },
    {
      "cell_type": "markdown",
      "metadata": {
        "id": "6LE9ZQJItA7B"
      },
      "source": [
        "### Non-DoH dataframe"
      ]
    },
    {
      "cell_type": "code",
      "metadata": {
        "colab": {
          "base_uri": "https://localhost:8080/",
          "height": 216
        },
        "id": "Lep-UVLuRy2q",
        "outputId": "75fc8b64-3bd2-4923-9c94-62768ae7bfa5"
      },
      "source": [
        "print('Non-DoH')\n",
        "df1.head(2)"
      ],
      "execution_count": 4,
      "outputs": [
        {
          "output_type": "stream",
          "text": [
            "Non-DoH\n"
          ],
          "name": "stdout"
        },
        {
          "output_type": "execute_result",
          "data": {
            "text/html": [
              "<div>\n",
              "<style scoped>\n",
              "    .dataframe tbody tr th:only-of-type {\n",
              "        vertical-align: middle;\n",
              "    }\n",
              "\n",
              "    .dataframe tbody tr th {\n",
              "        vertical-align: top;\n",
              "    }\n",
              "\n",
              "    .dataframe thead th {\n",
              "        text-align: right;\n",
              "    }\n",
              "</style>\n",
              "<table border=\"1\" class=\"dataframe\">\n",
              "  <thead>\n",
              "    <tr style=\"text-align: right;\">\n",
              "      <th></th>\n",
              "      <th>SourceIP</th>\n",
              "      <th>DestinationIP</th>\n",
              "      <th>SourcePort</th>\n",
              "      <th>DestinationPort</th>\n",
              "      <th>TimeStamp</th>\n",
              "      <th>Duration</th>\n",
              "      <th>FlowBytesSent</th>\n",
              "      <th>FlowSentRate</th>\n",
              "      <th>FlowBytesReceived</th>\n",
              "      <th>FlowReceivedRate</th>\n",
              "      <th>PacketLengthVariance</th>\n",
              "      <th>PacketLengthStandardDeviation</th>\n",
              "      <th>PacketLengthMean</th>\n",
              "      <th>PacketLengthMedian</th>\n",
              "      <th>PacketLengthMode</th>\n",
              "      <th>PacketLengthSkewFromMedian</th>\n",
              "      <th>PacketLengthSkewFromMode</th>\n",
              "      <th>PacketLengthCoefficientofVariation</th>\n",
              "      <th>PacketTimeVariance</th>\n",
              "      <th>PacketTimeStandardDeviation</th>\n",
              "      <th>PacketTimeMean</th>\n",
              "      <th>PacketTimeMedian</th>\n",
              "      <th>PacketTimeMode</th>\n",
              "      <th>PacketTimeSkewFromMedian</th>\n",
              "      <th>PacketTimeSkewFromMode</th>\n",
              "      <th>PacketTimeCoefficientofVariation</th>\n",
              "      <th>ResponseTimeTimeVariance</th>\n",
              "      <th>ResponseTimeTimeStandardDeviation</th>\n",
              "      <th>ResponseTimeTimeMean</th>\n",
              "      <th>ResponseTimeTimeMedian</th>\n",
              "      <th>ResponseTimeTimeMode</th>\n",
              "      <th>ResponseTimeTimeSkewFromMedian</th>\n",
              "      <th>ResponseTimeTimeSkewFromMode</th>\n",
              "      <th>ResponseTimeTimeCoefficientofVariation</th>\n",
              "      <th>Label</th>\n",
              "    </tr>\n",
              "  </thead>\n",
              "  <tbody>\n",
              "    <tr>\n",
              "      <th>0</th>\n",
              "      <td>72.21.91.42</td>\n",
              "      <td>192.168.20.191</td>\n",
              "      <td>443</td>\n",
              "      <td>51041</td>\n",
              "      <td>2020-01-14 15:49:01</td>\n",
              "      <td>4.544040</td>\n",
              "      <td>11256331</td>\n",
              "      <td>2.477164e+06</td>\n",
              "      <td>159324</td>\n",
              "      <td>35062.191354</td>\n",
              "      <td>427496.394703</td>\n",
              "      <td>653.832084</td>\n",
              "      <td>1106.811615</td>\n",
              "      <td>1514.0</td>\n",
              "      <td>1514</td>\n",
              "      <td>-1.868316</td>\n",
              "      <td>-0.622772</td>\n",
              "      <td>0.590735</td>\n",
              "      <td>1.720110</td>\n",
              "      <td>1.31153</td>\n",
              "      <td>2.257566</td>\n",
              "      <td>2.246046</td>\n",
              "      <td>0.136072</td>\n",
              "      <td>0.026351</td>\n",
              "      <td>1.617572</td>\n",
              "      <td>0.580949</td>\n",
              "      <td>1.107852e-07</td>\n",
              "      <td>0.000333</td>\n",
              "      <td>0.000027</td>\n",
              "      <td>0.000016</td>\n",
              "      <td>0.000014</td>\n",
              "      <td>0.096659</td>\n",
              "      <td>0.038228</td>\n",
              "      <td>12.454823</td>\n",
              "      <td>NonDoH</td>\n",
              "    </tr>\n",
              "    <tr>\n",
              "      <th>1</th>\n",
              "      <td>192.168.20.191</td>\n",
              "      <td>195.201.169.48</td>\n",
              "      <td>51043</td>\n",
              "      <td>443</td>\n",
              "      <td>2020-01-14 15:49:03</td>\n",
              "      <td>8.171041</td>\n",
              "      <td>930</td>\n",
              "      <td>1.138166e+02</td>\n",
              "      <td>11936</td>\n",
              "      <td>1460.768585</td>\n",
              "      <td>434289.817175</td>\n",
              "      <td>659.006690</td>\n",
              "      <td>677.157895</td>\n",
              "      <td>328.0</td>\n",
              "      <td>1514</td>\n",
              "      <td>1.589474</td>\n",
              "      <td>-1.269854</td>\n",
              "      <td>0.973195</td>\n",
              "      <td>7.408303</td>\n",
              "      <td>2.72182</td>\n",
              "      <td>1.559659</td>\n",
              "      <td>0.212176</td>\n",
              "      <td>0.212108</td>\n",
              "      <td>1.485200</td>\n",
              "      <td>0.495092</td>\n",
              "      <td>1.745138</td>\n",
              "      <td>3.224052e+00</td>\n",
              "      <td>1.795565</td>\n",
              "      <td>0.886579</td>\n",
              "      <td>0.103698</td>\n",
              "      <td>0.000900</td>\n",
              "      <td>1.308024</td>\n",
              "      <td>0.493259</td>\n",
              "      <td>2.025273</td>\n",
              "      <td>NonDoH</td>\n",
              "    </tr>\n",
              "  </tbody>\n",
              "</table>\n",
              "</div>"
            ],
            "text/plain": [
              "         SourceIP  ...   Label\n",
              "0     72.21.91.42  ...  NonDoH\n",
              "1  192.168.20.191  ...  NonDoH\n",
              "\n",
              "[2 rows x 35 columns]"
            ]
          },
          "metadata": {
            "tags": []
          },
          "execution_count": 4
        }
      ]
    },
    {
      "cell_type": "code",
      "metadata": {
        "colab": {
          "base_uri": "https://localhost:8080/"
        },
        "id": "kVObjVPYL_6g",
        "outputId": "277d357d-3149-41ca-cafe-0120025bb97b"
      },
      "source": [
        "print('Columns with datatype as object')\n",
        "print('------------------------------------------------------------------')\n",
        "print(df1.select_dtypes('object').head())\n",
        "\n",
        "print('\\n\\n Number of unique values from the above columns')\n",
        "print('------------------------------------------------------------------')\n",
        "def unique_vals(column):\n",
        "    return len(df1[column].unique())\n",
        "\n",
        "unique_elems = list(map(unique_vals, df1.select_dtypes('object').columns))\n",
        "\n",
        "for i in range(len(unique_elems)):\n",
        "    print(df1.select_dtypes('object').columns[i], '-', unique_elems[i])\n"
      ],
      "execution_count": 5,
      "outputs": [
        {
          "output_type": "stream",
          "text": [
            "Columns with datatype as object\n",
            "------------------------------------------------------------------\n",
            "         SourceIP   DestinationIP            TimeStamp   Label\n",
            "0     72.21.91.42  192.168.20.191  2020-01-14 15:49:01  NonDoH\n",
            "1  192.168.20.191  195.201.169.48  2020-01-14 15:49:03  NonDoH\n",
            "2  192.168.20.191    96.17.115.57  2020-01-14 15:49:03  NonDoH\n",
            "3  192.168.20.191   96.114.14.140  2020-01-14 15:49:03  NonDoH\n",
            "4  192.168.20.191   23.78.199.198  2020-01-14 15:49:03  NonDoH\n",
            "\n",
            "\n",
            " Number of unique values from the above columns\n",
            "------------------------------------------------------------------\n",
            "SourceIP - 6755\n",
            "DestinationIP - 33718\n",
            "TimeStamp - 132811\n",
            "Label - 1\n"
          ],
          "name": "stdout"
        }
      ]
    },
    {
      "cell_type": "markdown",
      "metadata": {
        "id": "PFxwyQzVtcMb"
      },
      "source": [
        "**IP address** <br>\n",
        "The IP address is split into 4 parts based upon the 'period' in them.\n",
        "The first 3 parts corresponds to the Network ID, and the last part corresponds to the Host ID <br><br>\n",
        "**Time stamp** <br>\n",
        "The time stamps are broken down into Year, Month, Day, Hour, Minute, Second. <br>\n",
        "The time stamp of the signals should not affect the signal's type. <br>"
      ]
    },
    {
      "cell_type": "code",
      "metadata": {
        "id": "TiZrMxSMMrtB",
        "colab": {
          "base_uri": "https://localhost:8080/",
          "height": 162
        },
        "outputId": "a95e66c2-c3e0-4b26-8e9b-5f7750102c84"
      },
      "source": [
        "df1[['SourceIP' + str(i+1) for i in range(4)]] = [IPs.split('.') for IPs in df1.SourceIP]\n",
        "df1[['DestinationIP' + str(i+1) for i in range(4)]] = [IPs.split('.') for IPs in df1.DestinationIP]\n",
        "\n",
        "df1['TimeStamp'] = pd.to_datetime(df1['TimeStamp'], format = '%Y-%m-%d %H:%M:%S')\n",
        "\n",
        "df1['Year'] = df1['TimeStamp'].dt.year\n",
        "df1['Month'] = df1['TimeStamp'].dt.month\n",
        "df1['Day'] = df1['TimeStamp'].dt.day\n",
        "df1['Hour'] = df1['TimeStamp'].dt.hour\n",
        "df1['Minute'] = df1['TimeStamp'].dt.minute\n",
        "df1['Second'] = df1['TimeStamp'].dt.second\n",
        "\n",
        "df1['Label'] = 0\n",
        "\n",
        "df1 = df1.drop(['SourceIP', 'DestinationIP', 'TimeStamp'], axis = 1)\n",
        "\n",
        "for cols in df1.columns:\n",
        "    df1[cols] = df1[cols].astype('float64')\n",
        "\n",
        "\n",
        "df1.head(3)"
      ],
      "execution_count": 6,
      "outputs": [
        {
          "output_type": "execute_result",
          "data": {
            "text/html": [
              "<div>\n",
              "<style scoped>\n",
              "    .dataframe tbody tr th:only-of-type {\n",
              "        vertical-align: middle;\n",
              "    }\n",
              "\n",
              "    .dataframe tbody tr th {\n",
              "        vertical-align: top;\n",
              "    }\n",
              "\n",
              "    .dataframe thead th {\n",
              "        text-align: right;\n",
              "    }\n",
              "</style>\n",
              "<table border=\"1\" class=\"dataframe\">\n",
              "  <thead>\n",
              "    <tr style=\"text-align: right;\">\n",
              "      <th></th>\n",
              "      <th>SourcePort</th>\n",
              "      <th>DestinationPort</th>\n",
              "      <th>Duration</th>\n",
              "      <th>FlowBytesSent</th>\n",
              "      <th>FlowSentRate</th>\n",
              "      <th>FlowBytesReceived</th>\n",
              "      <th>FlowReceivedRate</th>\n",
              "      <th>PacketLengthVariance</th>\n",
              "      <th>PacketLengthStandardDeviation</th>\n",
              "      <th>PacketLengthMean</th>\n",
              "      <th>PacketLengthMedian</th>\n",
              "      <th>PacketLengthMode</th>\n",
              "      <th>PacketLengthSkewFromMedian</th>\n",
              "      <th>PacketLengthSkewFromMode</th>\n",
              "      <th>PacketLengthCoefficientofVariation</th>\n",
              "      <th>PacketTimeVariance</th>\n",
              "      <th>PacketTimeStandardDeviation</th>\n",
              "      <th>PacketTimeMean</th>\n",
              "      <th>PacketTimeMedian</th>\n",
              "      <th>PacketTimeMode</th>\n",
              "      <th>PacketTimeSkewFromMedian</th>\n",
              "      <th>PacketTimeSkewFromMode</th>\n",
              "      <th>PacketTimeCoefficientofVariation</th>\n",
              "      <th>ResponseTimeTimeVariance</th>\n",
              "      <th>ResponseTimeTimeStandardDeviation</th>\n",
              "      <th>ResponseTimeTimeMean</th>\n",
              "      <th>ResponseTimeTimeMedian</th>\n",
              "      <th>ResponseTimeTimeMode</th>\n",
              "      <th>ResponseTimeTimeSkewFromMedian</th>\n",
              "      <th>ResponseTimeTimeSkewFromMode</th>\n",
              "      <th>ResponseTimeTimeCoefficientofVariation</th>\n",
              "      <th>Label</th>\n",
              "      <th>SourceIP1</th>\n",
              "      <th>SourceIP2</th>\n",
              "      <th>SourceIP3</th>\n",
              "      <th>SourceIP4</th>\n",
              "      <th>DestinationIP1</th>\n",
              "      <th>DestinationIP2</th>\n",
              "      <th>DestinationIP3</th>\n",
              "      <th>DestinationIP4</th>\n",
              "      <th>Year</th>\n",
              "      <th>Month</th>\n",
              "      <th>Day</th>\n",
              "      <th>Hour</th>\n",
              "      <th>Minute</th>\n",
              "      <th>Second</th>\n",
              "    </tr>\n",
              "  </thead>\n",
              "  <tbody>\n",
              "    <tr>\n",
              "      <th>0</th>\n",
              "      <td>443.0</td>\n",
              "      <td>51041.0</td>\n",
              "      <td>4.544040</td>\n",
              "      <td>11256331.0</td>\n",
              "      <td>2.477164e+06</td>\n",
              "      <td>159324.0</td>\n",
              "      <td>35062.191354</td>\n",
              "      <td>427496.394703</td>\n",
              "      <td>653.832084</td>\n",
              "      <td>1106.811615</td>\n",
              "      <td>1514.0</td>\n",
              "      <td>1514.0</td>\n",
              "      <td>-1.868316</td>\n",
              "      <td>-0.622772</td>\n",
              "      <td>0.590735</td>\n",
              "      <td>1.720110</td>\n",
              "      <td>1.311530</td>\n",
              "      <td>2.257566</td>\n",
              "      <td>2.246046</td>\n",
              "      <td>0.136072</td>\n",
              "      <td>0.026351</td>\n",
              "      <td>1.617572</td>\n",
              "      <td>0.580949</td>\n",
              "      <td>1.107852e-07</td>\n",
              "      <td>0.000333</td>\n",
              "      <td>0.000027</td>\n",
              "      <td>0.000016</td>\n",
              "      <td>0.000014</td>\n",
              "      <td>0.096659</td>\n",
              "      <td>0.038228</td>\n",
              "      <td>12.454823</td>\n",
              "      <td>0.0</td>\n",
              "      <td>72.0</td>\n",
              "      <td>21.0</td>\n",
              "      <td>91.0</td>\n",
              "      <td>42.0</td>\n",
              "      <td>192.0</td>\n",
              "      <td>168.0</td>\n",
              "      <td>20.0</td>\n",
              "      <td>191.0</td>\n",
              "      <td>2020.0</td>\n",
              "      <td>1.0</td>\n",
              "      <td>14.0</td>\n",
              "      <td>15.0</td>\n",
              "      <td>49.0</td>\n",
              "      <td>1.0</td>\n",
              "    </tr>\n",
              "    <tr>\n",
              "      <th>1</th>\n",
              "      <td>51043.0</td>\n",
              "      <td>443.0</td>\n",
              "      <td>8.171041</td>\n",
              "      <td>930.0</td>\n",
              "      <td>1.138166e+02</td>\n",
              "      <td>11936.0</td>\n",
              "      <td>1460.768585</td>\n",
              "      <td>434289.817175</td>\n",
              "      <td>659.006690</td>\n",
              "      <td>677.157895</td>\n",
              "      <td>328.0</td>\n",
              "      <td>1514.0</td>\n",
              "      <td>1.589474</td>\n",
              "      <td>-1.269854</td>\n",
              "      <td>0.973195</td>\n",
              "      <td>7.408303</td>\n",
              "      <td>2.721820</td>\n",
              "      <td>1.559659</td>\n",
              "      <td>0.212176</td>\n",
              "      <td>0.212108</td>\n",
              "      <td>1.485200</td>\n",
              "      <td>0.495092</td>\n",
              "      <td>1.745138</td>\n",
              "      <td>3.224052e+00</td>\n",
              "      <td>1.795565</td>\n",
              "      <td>0.886579</td>\n",
              "      <td>0.103698</td>\n",
              "      <td>0.000900</td>\n",
              "      <td>1.308024</td>\n",
              "      <td>0.493259</td>\n",
              "      <td>2.025273</td>\n",
              "      <td>0.0</td>\n",
              "      <td>192.0</td>\n",
              "      <td>168.0</td>\n",
              "      <td>20.0</td>\n",
              "      <td>191.0</td>\n",
              "      <td>195.0</td>\n",
              "      <td>201.0</td>\n",
              "      <td>169.0</td>\n",
              "      <td>48.0</td>\n",
              "      <td>2020.0</td>\n",
              "      <td>1.0</td>\n",
              "      <td>14.0</td>\n",
              "      <td>15.0</td>\n",
              "      <td>49.0</td>\n",
              "      <td>3.0</td>\n",
              "    </tr>\n",
              "    <tr>\n",
              "      <th>2</th>\n",
              "      <td>51021.0</td>\n",
              "      <td>443.0</td>\n",
              "      <td>0.033776</td>\n",
              "      <td>162.0</td>\n",
              "      <td>4.796305e+03</td>\n",
              "      <td>138.0</td>\n",
              "      <td>4085.741355</td>\n",
              "      <td>86.400000</td>\n",
              "      <td>9.295160</td>\n",
              "      <td>60.000000</td>\n",
              "      <td>54.0</td>\n",
              "      <td>54.0</td>\n",
              "      <td>1.936492</td>\n",
              "      <td>0.645497</td>\n",
              "      <td>0.154919</td>\n",
              "      <td>0.000182</td>\n",
              "      <td>0.013489</td>\n",
              "      <td>0.026978</td>\n",
              "      <td>0.033684</td>\n",
              "      <td>0.000000</td>\n",
              "      <td>-1.491488</td>\n",
              "      <td>1.999993</td>\n",
              "      <td>0.500002</td>\n",
              "      <td>0.000000e+00</td>\n",
              "      <td>0.000000</td>\n",
              "      <td>0.033683</td>\n",
              "      <td>0.033683</td>\n",
              "      <td>0.033683</td>\n",
              "      <td>-10.000000</td>\n",
              "      <td>-10.000000</td>\n",
              "      <td>0.000000</td>\n",
              "      <td>0.0</td>\n",
              "      <td>192.0</td>\n",
              "      <td>168.0</td>\n",
              "      <td>20.0</td>\n",
              "      <td>191.0</td>\n",
              "      <td>96.0</td>\n",
              "      <td>17.0</td>\n",
              "      <td>115.0</td>\n",
              "      <td>57.0</td>\n",
              "      <td>2020.0</td>\n",
              "      <td>1.0</td>\n",
              "      <td>14.0</td>\n",
              "      <td>15.0</td>\n",
              "      <td>49.0</td>\n",
              "      <td>3.0</td>\n",
              "    </tr>\n",
              "  </tbody>\n",
              "</table>\n",
              "</div>"
            ],
            "text/plain": [
              "   SourcePort  DestinationPort  Duration  ...  Hour  Minute  Second\n",
              "0       443.0          51041.0  4.544040  ...  15.0    49.0     1.0\n",
              "1     51043.0            443.0  8.171041  ...  15.0    49.0     3.0\n",
              "2     51021.0            443.0  0.033776  ...  15.0    49.0     3.0\n",
              "\n",
              "[3 rows x 46 columns]"
            ]
          },
          "metadata": {
            "tags": []
          },
          "execution_count": 6
        }
      ]
    },
    {
      "cell_type": "markdown",
      "metadata": {
        "id": "2S3C9Nratn8C"
      },
      "source": [
        "### DoH dataframe"
      ]
    },
    {
      "cell_type": "code",
      "metadata": {
        "colab": {
          "base_uri": "https://localhost:8080/",
          "height": 199
        },
        "id": "Cn-9Y1U9SeyI",
        "outputId": "0637dc11-4775-4bb6-b45d-963c6f9b01a3"
      },
      "source": [
        "df4 = pd.concat([df2, df3])\n",
        "df4.head(2)"
      ],
      "execution_count": 7,
      "outputs": [
        {
          "output_type": "execute_result",
          "data": {
            "text/html": [
              "<div>\n",
              "<style scoped>\n",
              "    .dataframe tbody tr th:only-of-type {\n",
              "        vertical-align: middle;\n",
              "    }\n",
              "\n",
              "    .dataframe tbody tr th {\n",
              "        vertical-align: top;\n",
              "    }\n",
              "\n",
              "    .dataframe thead th {\n",
              "        text-align: right;\n",
              "    }\n",
              "</style>\n",
              "<table border=\"1\" class=\"dataframe\">\n",
              "  <thead>\n",
              "    <tr style=\"text-align: right;\">\n",
              "      <th></th>\n",
              "      <th>SourceIP</th>\n",
              "      <th>DestinationIP</th>\n",
              "      <th>SourcePort</th>\n",
              "      <th>DestinationPort</th>\n",
              "      <th>TimeStamp</th>\n",
              "      <th>Duration</th>\n",
              "      <th>FlowBytesSent</th>\n",
              "      <th>FlowSentRate</th>\n",
              "      <th>FlowBytesReceived</th>\n",
              "      <th>FlowReceivedRate</th>\n",
              "      <th>PacketLengthVariance</th>\n",
              "      <th>PacketLengthStandardDeviation</th>\n",
              "      <th>PacketLengthMean</th>\n",
              "      <th>PacketLengthMedian</th>\n",
              "      <th>PacketLengthMode</th>\n",
              "      <th>PacketLengthSkewFromMedian</th>\n",
              "      <th>PacketLengthSkewFromMode</th>\n",
              "      <th>PacketLengthCoefficientofVariation</th>\n",
              "      <th>PacketTimeVariance</th>\n",
              "      <th>PacketTimeStandardDeviation</th>\n",
              "      <th>PacketTimeMean</th>\n",
              "      <th>PacketTimeMedian</th>\n",
              "      <th>PacketTimeMode</th>\n",
              "      <th>PacketTimeSkewFromMedian</th>\n",
              "      <th>PacketTimeSkewFromMode</th>\n",
              "      <th>PacketTimeCoefficientofVariation</th>\n",
              "      <th>ResponseTimeTimeVariance</th>\n",
              "      <th>ResponseTimeTimeStandardDeviation</th>\n",
              "      <th>ResponseTimeTimeMean</th>\n",
              "      <th>ResponseTimeTimeMedian</th>\n",
              "      <th>ResponseTimeTimeMode</th>\n",
              "      <th>ResponseTimeTimeSkewFromMedian</th>\n",
              "      <th>ResponseTimeTimeSkewFromMode</th>\n",
              "      <th>ResponseTimeTimeCoefficientofVariation</th>\n",
              "      <th>Label</th>\n",
              "    </tr>\n",
              "  </thead>\n",
              "  <tbody>\n",
              "    <tr>\n",
              "      <th>0</th>\n",
              "      <td>192.168.20.191</td>\n",
              "      <td>176.103.130.131</td>\n",
              "      <td>50749</td>\n",
              "      <td>443</td>\n",
              "      <td>2020-01-14 15:49:11</td>\n",
              "      <td>95.081550</td>\n",
              "      <td>62311</td>\n",
              "      <td>655.342703</td>\n",
              "      <td>65358</td>\n",
              "      <td>687.388878</td>\n",
              "      <td>7474.676771</td>\n",
              "      <td>86.456213</td>\n",
              "      <td>135.673751</td>\n",
              "      <td>102.0</td>\n",
              "      <td>54</td>\n",
              "      <td>1.168467</td>\n",
              "      <td>0.944683</td>\n",
              "      <td>0.637236</td>\n",
              "      <td>670.585814</td>\n",
              "      <td>25.895672</td>\n",
              "      <td>45.065277</td>\n",
              "      <td>48.811292</td>\n",
              "      <td>1.495060</td>\n",
              "      <td>-0.433974</td>\n",
              "      <td>1.682529</td>\n",
              "      <td>0.574626</td>\n",
              "      <td>0.001053</td>\n",
              "      <td>0.032457</td>\n",
              "      <td>0.027624</td>\n",
              "      <td>0.026854</td>\n",
              "      <td>0.026822</td>\n",
              "      <td>0.071187</td>\n",
              "      <td>0.024715</td>\n",
              "      <td>1.174948</td>\n",
              "      <td>Benign</td>\n",
              "    </tr>\n",
              "    <tr>\n",
              "      <th>1</th>\n",
              "      <td>192.168.20.191</td>\n",
              "      <td>176.103.130.131</td>\n",
              "      <td>50749</td>\n",
              "      <td>443</td>\n",
              "      <td>2020-01-14 15:50:52</td>\n",
              "      <td>122.309318</td>\n",
              "      <td>93828</td>\n",
              "      <td>767.136973</td>\n",
              "      <td>101232</td>\n",
              "      <td>827.672018</td>\n",
              "      <td>10458.118598</td>\n",
              "      <td>102.264943</td>\n",
              "      <td>141.245474</td>\n",
              "      <td>114.0</td>\n",
              "      <td>54</td>\n",
              "      <td>0.799261</td>\n",
              "      <td>0.853132</td>\n",
              "      <td>0.724023</td>\n",
              "      <td>708.465878</td>\n",
              "      <td>26.617022</td>\n",
              "      <td>52.287903</td>\n",
              "      <td>48.830314</td>\n",
              "      <td>31.719656</td>\n",
              "      <td>0.389704</td>\n",
              "      <td>0.772748</td>\n",
              "      <td>0.509047</td>\n",
              "      <td>0.001170</td>\n",
              "      <td>0.034200</td>\n",
              "      <td>0.024387</td>\n",
              "      <td>0.021043</td>\n",
              "      <td>0.026981</td>\n",
              "      <td>0.293297</td>\n",
              "      <td>-0.075845</td>\n",
              "      <td>1.402382</td>\n",
              "      <td>Benign</td>\n",
              "    </tr>\n",
              "  </tbody>\n",
              "</table>\n",
              "</div>"
            ],
            "text/plain": [
              "         SourceIP  ...   Label\n",
              "0  192.168.20.191  ...  Benign\n",
              "1  192.168.20.191  ...  Benign\n",
              "\n",
              "[2 rows x 35 columns]"
            ]
          },
          "metadata": {
            "tags": []
          },
          "execution_count": 7
        }
      ]
    },
    {
      "cell_type": "code",
      "metadata": {
        "colab": {
          "base_uri": "https://localhost:8080/"
        },
        "id": "WjH2gtUMtn8E",
        "outputId": "2ec781d0-62cb-427d-b6d5-37a38bc851d1"
      },
      "source": [
        "print('Columns with datatype as object')\n",
        "print('------------------------------------------------------------------')\n",
        "print(df4.select_dtypes('object').head())\n",
        "\n",
        "print('\\n\\n Number of unique values from the above columns')\n",
        "print('------------------------------------------------------------------')\n",
        "def unique_vals(column):\n",
        "    return len(df4[column].unique())\n",
        "\n",
        "unique_elems = list(map(unique_vals, df4.select_dtypes('object').columns))\n",
        "\n",
        "for i in range(len(unique_elems)):\n",
        "    print(df4.select_dtypes('object').columns[i], '-', unique_elems[i])\n"
      ],
      "execution_count": 8,
      "outputs": [
        {
          "output_type": "stream",
          "text": [
            "Columns with datatype as object\n",
            "------------------------------------------------------------------\n",
            "          SourceIP    DestinationIP            TimeStamp   Label\n",
            "0   192.168.20.191  176.103.130.131  2020-01-14 15:49:11  Benign\n",
            "1   192.168.20.191  176.103.130.131  2020-01-14 15:50:52  Benign\n",
            "2   192.168.20.191  176.103.130.131  2020-01-14 15:52:55  Benign\n",
            "3   192.168.20.191  176.103.130.131  2020-01-14 15:54:56  Benign\n",
            "4  176.103.130.131   192.168.20.191  2020-01-14 15:56:46  Benign\n",
            "\n",
            "\n",
            " Number of unique values from the above columns\n",
            "------------------------------------------------------------------\n",
            "SourceIP - 21\n",
            "DestinationIP - 21\n",
            "TimeStamp - 144547\n",
            "Label - 2\n"
          ],
          "name": "stdout"
        }
      ]
    },
    {
      "cell_type": "markdown",
      "metadata": {
        "id": "G2nEONtBv9sI"
      },
      "source": [
        "Similar pre-processing as above"
      ]
    },
    {
      "cell_type": "code",
      "metadata": {
        "colab": {
          "base_uri": "https://localhost:8080/",
          "height": 162
        },
        "id": "aPYx5gwOtn8H",
        "outputId": "473bf23c-6f03-4a43-e350-b393a1225d11"
      },
      "source": [
        "df4[['SourceIP' + str(i+1) for i in range(4)]] = [IPs.split('.') for IPs in df4.SourceIP]\n",
        "df4[['DestinationIP' + str(i+1) for i in range(4)]] = [IPs.split('.') for IPs in df4.DestinationIP]\n",
        "\n",
        "df4['TimeStamp'] = pd.to_datetime(df4['TimeStamp'], format = '%Y-%m-%d %H:%M:%S')\n",
        "\n",
        "df4['Year'] = df4['TimeStamp'].dt.year\n",
        "df4['Month'] = df4['TimeStamp'].dt.month\n",
        "df4['Day'] = df4['TimeStamp'].dt.day\n",
        "df4['Hour'] = df4['TimeStamp'].dt.hour\n",
        "df4['Minute'] = df4['TimeStamp'].dt.minute\n",
        "df4['Second'] = df4['TimeStamp'].dt.second\n",
        "\n",
        "df4['Label'] = (df4['Label'] == 'Malicious') * 1 \n",
        "\n",
        "df4 = df4.drop(['SourceIP', 'DestinationIP', 'TimeStamp'], axis = 1)\n",
        "\n",
        "for cols in df4.columns:\n",
        "    df4[cols] = df4[cols].astype('float64')\n",
        "\n",
        "df4.head(3)"
      ],
      "execution_count": 9,
      "outputs": [
        {
          "output_type": "execute_result",
          "data": {
            "text/html": [
              "<div>\n",
              "<style scoped>\n",
              "    .dataframe tbody tr th:only-of-type {\n",
              "        vertical-align: middle;\n",
              "    }\n",
              "\n",
              "    .dataframe tbody tr th {\n",
              "        vertical-align: top;\n",
              "    }\n",
              "\n",
              "    .dataframe thead th {\n",
              "        text-align: right;\n",
              "    }\n",
              "</style>\n",
              "<table border=\"1\" class=\"dataframe\">\n",
              "  <thead>\n",
              "    <tr style=\"text-align: right;\">\n",
              "      <th></th>\n",
              "      <th>SourcePort</th>\n",
              "      <th>DestinationPort</th>\n",
              "      <th>Duration</th>\n",
              "      <th>FlowBytesSent</th>\n",
              "      <th>FlowSentRate</th>\n",
              "      <th>FlowBytesReceived</th>\n",
              "      <th>FlowReceivedRate</th>\n",
              "      <th>PacketLengthVariance</th>\n",
              "      <th>PacketLengthStandardDeviation</th>\n",
              "      <th>PacketLengthMean</th>\n",
              "      <th>PacketLengthMedian</th>\n",
              "      <th>PacketLengthMode</th>\n",
              "      <th>PacketLengthSkewFromMedian</th>\n",
              "      <th>PacketLengthSkewFromMode</th>\n",
              "      <th>PacketLengthCoefficientofVariation</th>\n",
              "      <th>PacketTimeVariance</th>\n",
              "      <th>PacketTimeStandardDeviation</th>\n",
              "      <th>PacketTimeMean</th>\n",
              "      <th>PacketTimeMedian</th>\n",
              "      <th>PacketTimeMode</th>\n",
              "      <th>PacketTimeSkewFromMedian</th>\n",
              "      <th>PacketTimeSkewFromMode</th>\n",
              "      <th>PacketTimeCoefficientofVariation</th>\n",
              "      <th>ResponseTimeTimeVariance</th>\n",
              "      <th>ResponseTimeTimeStandardDeviation</th>\n",
              "      <th>ResponseTimeTimeMean</th>\n",
              "      <th>ResponseTimeTimeMedian</th>\n",
              "      <th>ResponseTimeTimeMode</th>\n",
              "      <th>ResponseTimeTimeSkewFromMedian</th>\n",
              "      <th>ResponseTimeTimeSkewFromMode</th>\n",
              "      <th>ResponseTimeTimeCoefficientofVariation</th>\n",
              "      <th>Label</th>\n",
              "      <th>SourceIP1</th>\n",
              "      <th>SourceIP2</th>\n",
              "      <th>SourceIP3</th>\n",
              "      <th>SourceIP4</th>\n",
              "      <th>DestinationIP1</th>\n",
              "      <th>DestinationIP2</th>\n",
              "      <th>DestinationIP3</th>\n",
              "      <th>DestinationIP4</th>\n",
              "      <th>Year</th>\n",
              "      <th>Month</th>\n",
              "      <th>Day</th>\n",
              "      <th>Hour</th>\n",
              "      <th>Minute</th>\n",
              "      <th>Second</th>\n",
              "    </tr>\n",
              "  </thead>\n",
              "  <tbody>\n",
              "    <tr>\n",
              "      <th>0</th>\n",
              "      <td>50749.0</td>\n",
              "      <td>443.0</td>\n",
              "      <td>95.081550</td>\n",
              "      <td>62311.0</td>\n",
              "      <td>655.342703</td>\n",
              "      <td>65358.0</td>\n",
              "      <td>687.388878</td>\n",
              "      <td>7474.676771</td>\n",
              "      <td>86.456213</td>\n",
              "      <td>135.673751</td>\n",
              "      <td>102.0</td>\n",
              "      <td>54.0</td>\n",
              "      <td>1.168467</td>\n",
              "      <td>0.944683</td>\n",
              "      <td>0.637236</td>\n",
              "      <td>670.585814</td>\n",
              "      <td>25.895672</td>\n",
              "      <td>45.065277</td>\n",
              "      <td>48.811292</td>\n",
              "      <td>1.495060</td>\n",
              "      <td>-0.433974</td>\n",
              "      <td>1.682529</td>\n",
              "      <td>0.574626</td>\n",
              "      <td>0.001053</td>\n",
              "      <td>0.032457</td>\n",
              "      <td>0.027624</td>\n",
              "      <td>0.026854</td>\n",
              "      <td>0.026822</td>\n",
              "      <td>0.071187</td>\n",
              "      <td>0.024715</td>\n",
              "      <td>1.174948</td>\n",
              "      <td>0.0</td>\n",
              "      <td>192.0</td>\n",
              "      <td>168.0</td>\n",
              "      <td>20.0</td>\n",
              "      <td>191.0</td>\n",
              "      <td>176.0</td>\n",
              "      <td>103.0</td>\n",
              "      <td>130.0</td>\n",
              "      <td>131.0</td>\n",
              "      <td>2020.0</td>\n",
              "      <td>1.0</td>\n",
              "      <td>14.0</td>\n",
              "      <td>15.0</td>\n",
              "      <td>49.0</td>\n",
              "      <td>11.0</td>\n",
              "    </tr>\n",
              "    <tr>\n",
              "      <th>1</th>\n",
              "      <td>50749.0</td>\n",
              "      <td>443.0</td>\n",
              "      <td>122.309318</td>\n",
              "      <td>93828.0</td>\n",
              "      <td>767.136973</td>\n",
              "      <td>101232.0</td>\n",
              "      <td>827.672018</td>\n",
              "      <td>10458.118598</td>\n",
              "      <td>102.264943</td>\n",
              "      <td>141.245474</td>\n",
              "      <td>114.0</td>\n",
              "      <td>54.0</td>\n",
              "      <td>0.799261</td>\n",
              "      <td>0.853132</td>\n",
              "      <td>0.724023</td>\n",
              "      <td>708.465878</td>\n",
              "      <td>26.617022</td>\n",
              "      <td>52.287903</td>\n",
              "      <td>48.830314</td>\n",
              "      <td>31.719656</td>\n",
              "      <td>0.389704</td>\n",
              "      <td>0.772748</td>\n",
              "      <td>0.509047</td>\n",
              "      <td>0.001170</td>\n",
              "      <td>0.034200</td>\n",
              "      <td>0.024387</td>\n",
              "      <td>0.021043</td>\n",
              "      <td>0.026981</td>\n",
              "      <td>0.293297</td>\n",
              "      <td>-0.075845</td>\n",
              "      <td>1.402382</td>\n",
              "      <td>0.0</td>\n",
              "      <td>192.0</td>\n",
              "      <td>168.0</td>\n",
              "      <td>20.0</td>\n",
              "      <td>191.0</td>\n",
              "      <td>176.0</td>\n",
              "      <td>103.0</td>\n",
              "      <td>130.0</td>\n",
              "      <td>131.0</td>\n",
              "      <td>2020.0</td>\n",
              "      <td>1.0</td>\n",
              "      <td>14.0</td>\n",
              "      <td>15.0</td>\n",
              "      <td>50.0</td>\n",
              "      <td>52.0</td>\n",
              "    </tr>\n",
              "    <tr>\n",
              "      <th>2</th>\n",
              "      <td>50749.0</td>\n",
              "      <td>443.0</td>\n",
              "      <td>120.958413</td>\n",
              "      <td>38784.0</td>\n",
              "      <td>320.639127</td>\n",
              "      <td>38236.0</td>\n",
              "      <td>316.108645</td>\n",
              "      <td>7300.293933</td>\n",
              "      <td>85.441758</td>\n",
              "      <td>133.715278</td>\n",
              "      <td>89.0</td>\n",
              "      <td>54.0</td>\n",
              "      <td>1.570027</td>\n",
              "      <td>0.932978</td>\n",
              "      <td>0.638983</td>\n",
              "      <td>1358.911235</td>\n",
              "      <td>36.863413</td>\n",
              "      <td>50.316114</td>\n",
              "      <td>39.770747</td>\n",
              "      <td>0.417528</td>\n",
              "      <td>0.858198</td>\n",
              "      <td>1.353607</td>\n",
              "      <td>0.732636</td>\n",
              "      <td>0.000785</td>\n",
              "      <td>0.028021</td>\n",
              "      <td>0.029238</td>\n",
              "      <td>0.026921</td>\n",
              "      <td>0.026855</td>\n",
              "      <td>0.248064</td>\n",
              "      <td>0.085061</td>\n",
              "      <td>0.958348</td>\n",
              "      <td>0.0</td>\n",
              "      <td>192.0</td>\n",
              "      <td>168.0</td>\n",
              "      <td>20.0</td>\n",
              "      <td>191.0</td>\n",
              "      <td>176.0</td>\n",
              "      <td>103.0</td>\n",
              "      <td>130.0</td>\n",
              "      <td>131.0</td>\n",
              "      <td>2020.0</td>\n",
              "      <td>1.0</td>\n",
              "      <td>14.0</td>\n",
              "      <td>15.0</td>\n",
              "      <td>52.0</td>\n",
              "      <td>55.0</td>\n",
              "    </tr>\n",
              "  </tbody>\n",
              "</table>\n",
              "</div>"
            ],
            "text/plain": [
              "   SourcePort  DestinationPort    Duration  ...  Hour  Minute  Second\n",
              "0     50749.0            443.0   95.081550  ...  15.0    49.0    11.0\n",
              "1     50749.0            443.0  122.309318  ...  15.0    50.0    52.0\n",
              "2     50749.0            443.0  120.958413  ...  15.0    52.0    55.0\n",
              "\n",
              "[3 rows x 46 columns]"
            ]
          },
          "metadata": {
            "tags": []
          },
          "execution_count": 9
        }
      ]
    },
    {
      "cell_type": "markdown",
      "metadata": {
        "id": "GmVx5oRPX33o"
      },
      "source": [
        "### Merging the dataframes"
      ]
    },
    {
      "cell_type": "code",
      "metadata": {
        "id": "7UQ7gMJUukWt",
        "colab": {
          "base_uri": "https://localhost:8080/",
          "height": 439
        },
        "outputId": "e62606d1-b875-4f5b-e553-1aa12e3a5def"
      },
      "source": [
        "df5 = df4.copy()\n",
        "\n",
        "df1['Label1'] = 0\n",
        "df1['Label2'] = -1\n",
        "\n",
        "df5['Label1'] = 1\n",
        "df5['Label2'] = df4.Label\n",
        "\n",
        "df_combined =  pd.concat([df1, df5])\n",
        "df_combined = df_combined.drop(['Label'], axis = 1)\n",
        "\n",
        "df_combined"
      ],
      "execution_count": 10,
      "outputs": [
        {
          "output_type": "execute_result",
          "data": {
            "text/html": [
              "<div>\n",
              "<style scoped>\n",
              "    .dataframe tbody tr th:only-of-type {\n",
              "        vertical-align: middle;\n",
              "    }\n",
              "\n",
              "    .dataframe tbody tr th {\n",
              "        vertical-align: top;\n",
              "    }\n",
              "\n",
              "    .dataframe thead th {\n",
              "        text-align: right;\n",
              "    }\n",
              "</style>\n",
              "<table border=\"1\" class=\"dataframe\">\n",
              "  <thead>\n",
              "    <tr style=\"text-align: right;\">\n",
              "      <th></th>\n",
              "      <th>SourcePort</th>\n",
              "      <th>DestinationPort</th>\n",
              "      <th>Duration</th>\n",
              "      <th>FlowBytesSent</th>\n",
              "      <th>FlowSentRate</th>\n",
              "      <th>FlowBytesReceived</th>\n",
              "      <th>FlowReceivedRate</th>\n",
              "      <th>PacketLengthVariance</th>\n",
              "      <th>PacketLengthStandardDeviation</th>\n",
              "      <th>PacketLengthMean</th>\n",
              "      <th>PacketLengthMedian</th>\n",
              "      <th>PacketLengthMode</th>\n",
              "      <th>PacketLengthSkewFromMedian</th>\n",
              "      <th>PacketLengthSkewFromMode</th>\n",
              "      <th>PacketLengthCoefficientofVariation</th>\n",
              "      <th>PacketTimeVariance</th>\n",
              "      <th>PacketTimeStandardDeviation</th>\n",
              "      <th>PacketTimeMean</th>\n",
              "      <th>PacketTimeMedian</th>\n",
              "      <th>PacketTimeMode</th>\n",
              "      <th>PacketTimeSkewFromMedian</th>\n",
              "      <th>PacketTimeSkewFromMode</th>\n",
              "      <th>PacketTimeCoefficientofVariation</th>\n",
              "      <th>ResponseTimeTimeVariance</th>\n",
              "      <th>ResponseTimeTimeStandardDeviation</th>\n",
              "      <th>ResponseTimeTimeMean</th>\n",
              "      <th>ResponseTimeTimeMedian</th>\n",
              "      <th>ResponseTimeTimeMode</th>\n",
              "      <th>ResponseTimeTimeSkewFromMedian</th>\n",
              "      <th>ResponseTimeTimeSkewFromMode</th>\n",
              "      <th>ResponseTimeTimeCoefficientofVariation</th>\n",
              "      <th>SourceIP1</th>\n",
              "      <th>SourceIP2</th>\n",
              "      <th>SourceIP3</th>\n",
              "      <th>SourceIP4</th>\n",
              "      <th>DestinationIP1</th>\n",
              "      <th>DestinationIP2</th>\n",
              "      <th>DestinationIP3</th>\n",
              "      <th>DestinationIP4</th>\n",
              "      <th>Year</th>\n",
              "      <th>Month</th>\n",
              "      <th>Day</th>\n",
              "      <th>Hour</th>\n",
              "      <th>Minute</th>\n",
              "      <th>Second</th>\n",
              "      <th>Label1</th>\n",
              "      <th>Label2</th>\n",
              "    </tr>\n",
              "  </thead>\n",
              "  <tbody>\n",
              "    <tr>\n",
              "      <th>0</th>\n",
              "      <td>443.0</td>\n",
              "      <td>51041.0</td>\n",
              "      <td>4.544040</td>\n",
              "      <td>11256331.0</td>\n",
              "      <td>2.477164e+06</td>\n",
              "      <td>159324.0</td>\n",
              "      <td>35062.191354</td>\n",
              "      <td>427496.394703</td>\n",
              "      <td>653.832084</td>\n",
              "      <td>1106.811615</td>\n",
              "      <td>1514.0</td>\n",
              "      <td>1514.0</td>\n",
              "      <td>-1.868316</td>\n",
              "      <td>-0.622772</td>\n",
              "      <td>0.590735</td>\n",
              "      <td>1.720110</td>\n",
              "      <td>1.311530</td>\n",
              "      <td>2.257566</td>\n",
              "      <td>2.246046</td>\n",
              "      <td>0.136072</td>\n",
              "      <td>0.026351</td>\n",
              "      <td>1.617572</td>\n",
              "      <td>0.580949</td>\n",
              "      <td>1.107852e-07</td>\n",
              "      <td>0.000333</td>\n",
              "      <td>0.000027</td>\n",
              "      <td>0.000016</td>\n",
              "      <td>0.000014</td>\n",
              "      <td>0.096659</td>\n",
              "      <td>0.038228</td>\n",
              "      <td>12.454823</td>\n",
              "      <td>72.0</td>\n",
              "      <td>21.0</td>\n",
              "      <td>91.0</td>\n",
              "      <td>42.0</td>\n",
              "      <td>192.0</td>\n",
              "      <td>168.0</td>\n",
              "      <td>20.0</td>\n",
              "      <td>191.0</td>\n",
              "      <td>2020.0</td>\n",
              "      <td>1.0</td>\n",
              "      <td>14.0</td>\n",
              "      <td>15.0</td>\n",
              "      <td>49.0</td>\n",
              "      <td>1.0</td>\n",
              "      <td>0</td>\n",
              "      <td>-1.0</td>\n",
              "    </tr>\n",
              "    <tr>\n",
              "      <th>1</th>\n",
              "      <td>51043.0</td>\n",
              "      <td>443.0</td>\n",
              "      <td>8.171041</td>\n",
              "      <td>930.0</td>\n",
              "      <td>1.138166e+02</td>\n",
              "      <td>11936.0</td>\n",
              "      <td>1460.768585</td>\n",
              "      <td>434289.817175</td>\n",
              "      <td>659.006690</td>\n",
              "      <td>677.157895</td>\n",
              "      <td>328.0</td>\n",
              "      <td>1514.0</td>\n",
              "      <td>1.589474</td>\n",
              "      <td>-1.269854</td>\n",
              "      <td>0.973195</td>\n",
              "      <td>7.408303</td>\n",
              "      <td>2.721820</td>\n",
              "      <td>1.559659</td>\n",
              "      <td>0.212176</td>\n",
              "      <td>0.212108</td>\n",
              "      <td>1.485200</td>\n",
              "      <td>0.495092</td>\n",
              "      <td>1.745138</td>\n",
              "      <td>3.224052e+00</td>\n",
              "      <td>1.795565</td>\n",
              "      <td>0.886579</td>\n",
              "      <td>0.103698</td>\n",
              "      <td>0.000900</td>\n",
              "      <td>1.308024</td>\n",
              "      <td>0.493259</td>\n",
              "      <td>2.025273</td>\n",
              "      <td>192.0</td>\n",
              "      <td>168.0</td>\n",
              "      <td>20.0</td>\n",
              "      <td>191.0</td>\n",
              "      <td>195.0</td>\n",
              "      <td>201.0</td>\n",
              "      <td>169.0</td>\n",
              "      <td>48.0</td>\n",
              "      <td>2020.0</td>\n",
              "      <td>1.0</td>\n",
              "      <td>14.0</td>\n",
              "      <td>15.0</td>\n",
              "      <td>49.0</td>\n",
              "      <td>3.0</td>\n",
              "      <td>0</td>\n",
              "      <td>-1.0</td>\n",
              "    </tr>\n",
              "    <tr>\n",
              "      <th>2</th>\n",
              "      <td>51021.0</td>\n",
              "      <td>443.0</td>\n",
              "      <td>0.033776</td>\n",
              "      <td>162.0</td>\n",
              "      <td>4.796305e+03</td>\n",
              "      <td>138.0</td>\n",
              "      <td>4085.741355</td>\n",
              "      <td>86.400000</td>\n",
              "      <td>9.295160</td>\n",
              "      <td>60.000000</td>\n",
              "      <td>54.0</td>\n",
              "      <td>54.0</td>\n",
              "      <td>1.936492</td>\n",
              "      <td>0.645497</td>\n",
              "      <td>0.154919</td>\n",
              "      <td>0.000182</td>\n",
              "      <td>0.013489</td>\n",
              "      <td>0.026978</td>\n",
              "      <td>0.033684</td>\n",
              "      <td>0.000000</td>\n",
              "      <td>-1.491488</td>\n",
              "      <td>1.999993</td>\n",
              "      <td>0.500002</td>\n",
              "      <td>0.000000e+00</td>\n",
              "      <td>0.000000</td>\n",
              "      <td>0.033683</td>\n",
              "      <td>0.033683</td>\n",
              "      <td>0.033683</td>\n",
              "      <td>-10.000000</td>\n",
              "      <td>-10.000000</td>\n",
              "      <td>0.000000</td>\n",
              "      <td>192.0</td>\n",
              "      <td>168.0</td>\n",
              "      <td>20.0</td>\n",
              "      <td>191.0</td>\n",
              "      <td>96.0</td>\n",
              "      <td>17.0</td>\n",
              "      <td>115.0</td>\n",
              "      <td>57.0</td>\n",
              "      <td>2020.0</td>\n",
              "      <td>1.0</td>\n",
              "      <td>14.0</td>\n",
              "      <td>15.0</td>\n",
              "      <td>49.0</td>\n",
              "      <td>3.0</td>\n",
              "      <td>0</td>\n",
              "      <td>-1.0</td>\n",
              "    </tr>\n",
              "    <tr>\n",
              "      <th>3</th>\n",
              "      <td>50308.0</td>\n",
              "      <td>443.0</td>\n",
              "      <td>0.060723</td>\n",
              "      <td>108.0</td>\n",
              "      <td>1.778568e+03</td>\n",
              "      <td>120.0</td>\n",
              "      <td>1976.186947</td>\n",
              "      <td>9.000000</td>\n",
              "      <td>3.000000</td>\n",
              "      <td>57.000000</td>\n",
              "      <td>57.0</td>\n",
              "      <td>54.0</td>\n",
              "      <td>0.000000</td>\n",
              "      <td>1.000000</td>\n",
              "      <td>0.052632</td>\n",
              "      <td>0.000691</td>\n",
              "      <td>0.026284</td>\n",
              "      <td>0.045525</td>\n",
              "      <td>0.060687</td>\n",
              "      <td>0.000000</td>\n",
              "      <td>-1.730700</td>\n",
              "      <td>1.732051</td>\n",
              "      <td>0.577350</td>\n",
              "      <td>0.000000e+00</td>\n",
              "      <td>0.000000</td>\n",
              "      <td>0.060687</td>\n",
              "      <td>0.060687</td>\n",
              "      <td>0.060687</td>\n",
              "      <td>-10.000000</td>\n",
              "      <td>-10.000000</td>\n",
              "      <td>0.000000</td>\n",
              "      <td>192.0</td>\n",
              "      <td>168.0</td>\n",
              "      <td>20.0</td>\n",
              "      <td>191.0</td>\n",
              "      <td>96.0</td>\n",
              "      <td>114.0</td>\n",
              "      <td>14.0</td>\n",
              "      <td>140.0</td>\n",
              "      <td>2020.0</td>\n",
              "      <td>1.0</td>\n",
              "      <td>14.0</td>\n",
              "      <td>15.0</td>\n",
              "      <td>49.0</td>\n",
              "      <td>3.0</td>\n",
              "      <td>0</td>\n",
              "      <td>-1.0</td>\n",
              "    </tr>\n",
              "    <tr>\n",
              "      <th>4</th>\n",
              "      <td>50983.0</td>\n",
              "      <td>443.0</td>\n",
              "      <td>0.019545</td>\n",
              "      <td>55.0</td>\n",
              "      <td>2.814019e+03</td>\n",
              "      <td>66.0</td>\n",
              "      <td>3376.822717</td>\n",
              "      <td>30.250000</td>\n",
              "      <td>5.500000</td>\n",
              "      <td>60.500000</td>\n",
              "      <td>60.5</td>\n",
              "      <td>55.0</td>\n",
              "      <td>0.000000</td>\n",
              "      <td>1.000000</td>\n",
              "      <td>0.090909</td>\n",
              "      <td>0.000096</td>\n",
              "      <td>0.009772</td>\n",
              "      <td>0.009772</td>\n",
              "      <td>0.009772</td>\n",
              "      <td>0.000000</td>\n",
              "      <td>0.000000</td>\n",
              "      <td>1.000000</td>\n",
              "      <td>1.000000</td>\n",
              "      <td>0.000000e+00</td>\n",
              "      <td>0.000000</td>\n",
              "      <td>0.019545</td>\n",
              "      <td>0.019545</td>\n",
              "      <td>0.019545</td>\n",
              "      <td>-10.000000</td>\n",
              "      <td>-10.000000</td>\n",
              "      <td>0.000000</td>\n",
              "      <td>192.0</td>\n",
              "      <td>168.0</td>\n",
              "      <td>20.0</td>\n",
              "      <td>191.0</td>\n",
              "      <td>23.0</td>\n",
              "      <td>78.0</td>\n",
              "      <td>199.0</td>\n",
              "      <td>198.0</td>\n",
              "      <td>2020.0</td>\n",
              "      <td>1.0</td>\n",
              "      <td>14.0</td>\n",
              "      <td>15.0</td>\n",
              "      <td>49.0</td>\n",
              "      <td>3.0</td>\n",
              "      <td>0</td>\n",
              "      <td>-1.0</td>\n",
              "    </tr>\n",
              "    <tr>\n",
              "      <th>...</th>\n",
              "      <td>...</td>\n",
              "      <td>...</td>\n",
              "      <td>...</td>\n",
              "      <td>...</td>\n",
              "      <td>...</td>\n",
              "      <td>...</td>\n",
              "      <td>...</td>\n",
              "      <td>...</td>\n",
              "      <td>...</td>\n",
              "      <td>...</td>\n",
              "      <td>...</td>\n",
              "      <td>...</td>\n",
              "      <td>...</td>\n",
              "      <td>...</td>\n",
              "      <td>...</td>\n",
              "      <td>...</td>\n",
              "      <td>...</td>\n",
              "      <td>...</td>\n",
              "      <td>...</td>\n",
              "      <td>...</td>\n",
              "      <td>...</td>\n",
              "      <td>...</td>\n",
              "      <td>...</td>\n",
              "      <td>...</td>\n",
              "      <td>...</td>\n",
              "      <td>...</td>\n",
              "      <td>...</td>\n",
              "      <td>...</td>\n",
              "      <td>...</td>\n",
              "      <td>...</td>\n",
              "      <td>...</td>\n",
              "      <td>...</td>\n",
              "      <td>...</td>\n",
              "      <td>...</td>\n",
              "      <td>...</td>\n",
              "      <td>...</td>\n",
              "      <td>...</td>\n",
              "      <td>...</td>\n",
              "      <td>...</td>\n",
              "      <td>...</td>\n",
              "      <td>...</td>\n",
              "      <td>...</td>\n",
              "      <td>...</td>\n",
              "      <td>...</td>\n",
              "      <td>...</td>\n",
              "      <td>...</td>\n",
              "      <td>...</td>\n",
              "    </tr>\n",
              "    <tr>\n",
              "      <th>249831</th>\n",
              "      <td>443.0</td>\n",
              "      <td>33926.0</td>\n",
              "      <td>120.653838</td>\n",
              "      <td>78776.0</td>\n",
              "      <td>6.529092e+02</td>\n",
              "      <td>46073.0</td>\n",
              "      <td>381.861040</td>\n",
              "      <td>7979.982650</td>\n",
              "      <td>89.330749</td>\n",
              "      <td>121.566699</td>\n",
              "      <td>87.0</td>\n",
              "      <td>87.0</td>\n",
              "      <td>1.160856</td>\n",
              "      <td>0.386952</td>\n",
              "      <td>0.734829</td>\n",
              "      <td>1199.921257</td>\n",
              "      <td>34.639880</td>\n",
              "      <td>56.371141</td>\n",
              "      <td>55.775982</td>\n",
              "      <td>0.000000</td>\n",
              "      <td>0.051544</td>\n",
              "      <td>1.627348</td>\n",
              "      <td>0.614497</td>\n",
              "      <td>8.716113e-09</td>\n",
              "      <td>0.000093</td>\n",
              "      <td>0.000054</td>\n",
              "      <td>0.000037</td>\n",
              "      <td>0.000028</td>\n",
              "      <td>0.538614</td>\n",
              "      <td>0.275939</td>\n",
              "      <td>1.736555</td>\n",
              "      <td>1.0</td>\n",
              "      <td>1.0</td>\n",
              "      <td>1.0</td>\n",
              "      <td>1.0</td>\n",
              "      <td>192.0</td>\n",
              "      <td>168.0</td>\n",
              "      <td>20.0</td>\n",
              "      <td>207.0</td>\n",
              "      <td>2020.0</td>\n",
              "      <td>4.0</td>\n",
              "      <td>1.0</td>\n",
              "      <td>0.0</td>\n",
              "      <td>46.0</td>\n",
              "      <td>31.0</td>\n",
              "      <td>1</td>\n",
              "      <td>1.0</td>\n",
              "    </tr>\n",
              "    <tr>\n",
              "      <th>249832</th>\n",
              "      <td>443.0</td>\n",
              "      <td>33926.0</td>\n",
              "      <td>120.718680</td>\n",
              "      <td>78719.0</td>\n",
              "      <td>6.520863e+02</td>\n",
              "      <td>46047.0</td>\n",
              "      <td>381.440553</td>\n",
              "      <td>8141.129962</td>\n",
              "      <td>90.228210</td>\n",
              "      <td>121.604288</td>\n",
              "      <td>87.0</td>\n",
              "      <td>87.0</td>\n",
              "      <td>1.150559</td>\n",
              "      <td>0.383520</td>\n",
              "      <td>0.741982</td>\n",
              "      <td>1213.045827</td>\n",
              "      <td>34.828807</td>\n",
              "      <td>56.544629</td>\n",
              "      <td>55.779799</td>\n",
              "      <td>0.000000</td>\n",
              "      <td>0.065879</td>\n",
              "      <td>1.623502</td>\n",
              "      <td>0.615953</td>\n",
              "      <td>8.737216e-07</td>\n",
              "      <td>0.000935</td>\n",
              "      <td>0.000110</td>\n",
              "      <td>0.000032</td>\n",
              "      <td>0.000024</td>\n",
              "      <td>0.250408</td>\n",
              "      <td>0.092028</td>\n",
              "      <td>8.495895</td>\n",
              "      <td>1.0</td>\n",
              "      <td>1.0</td>\n",
              "      <td>1.0</td>\n",
              "      <td>1.0</td>\n",
              "      <td>192.0</td>\n",
              "      <td>168.0</td>\n",
              "      <td>20.0</td>\n",
              "      <td>207.0</td>\n",
              "      <td>2020.0</td>\n",
              "      <td>4.0</td>\n",
              "      <td>1.0</td>\n",
              "      <td>0.0</td>\n",
              "      <td>48.0</td>\n",
              "      <td>32.0</td>\n",
              "      <td>1</td>\n",
              "      <td>1.0</td>\n",
              "    </tr>\n",
              "    <tr>\n",
              "      <th>249833</th>\n",
              "      <td>443.0</td>\n",
              "      <td>33926.0</td>\n",
              "      <td>120.645723</td>\n",
              "      <td>78808.0</td>\n",
              "      <td>6.532183e+02</td>\n",
              "      <td>46118.0</td>\n",
              "      <td>382.259718</td>\n",
              "      <td>8648.833760</td>\n",
              "      <td>92.999106</td>\n",
              "      <td>122.476471</td>\n",
              "      <td>87.0</td>\n",
              "      <td>87.0</td>\n",
              "      <td>1.144413</td>\n",
              "      <td>0.381471</td>\n",
              "      <td>0.759322</td>\n",
              "      <td>1247.963251</td>\n",
              "      <td>35.326523</td>\n",
              "      <td>54.657933</td>\n",
              "      <td>55.694161</td>\n",
              "      <td>0.000000</td>\n",
              "      <td>-0.087999</td>\n",
              "      <td>1.547221</td>\n",
              "      <td>0.646320</td>\n",
              "      <td>1.558392e-06</td>\n",
              "      <td>0.001248</td>\n",
              "      <td>0.000128</td>\n",
              "      <td>0.000035</td>\n",
              "      <td>0.000025</td>\n",
              "      <td>0.222679</td>\n",
              "      <td>0.082237</td>\n",
              "      <td>9.778681</td>\n",
              "      <td>1.0</td>\n",
              "      <td>1.0</td>\n",
              "      <td>1.0</td>\n",
              "      <td>1.0</td>\n",
              "      <td>192.0</td>\n",
              "      <td>168.0</td>\n",
              "      <td>20.0</td>\n",
              "      <td>207.0</td>\n",
              "      <td>2020.0</td>\n",
              "      <td>4.0</td>\n",
              "      <td>1.0</td>\n",
              "      <td>0.0</td>\n",
              "      <td>50.0</td>\n",
              "      <td>33.0</td>\n",
              "      <td>1</td>\n",
              "      <td>1.0</td>\n",
              "    </tr>\n",
              "    <tr>\n",
              "      <th>249834</th>\n",
              "      <td>443.0</td>\n",
              "      <td>33926.0</td>\n",
              "      <td>120.652326</td>\n",
              "      <td>77281.0</td>\n",
              "      <td>6.405264e+02</td>\n",
              "      <td>46015.0</td>\n",
              "      <td>381.385105</td>\n",
              "      <td>11417.273333</td>\n",
              "      <td>106.851642</td>\n",
              "      <td>125.300813</td>\n",
              "      <td>87.0</td>\n",
              "      <td>87.0</td>\n",
              "      <td>1.075346</td>\n",
              "      <td>0.358449</td>\n",
              "      <td>0.852761</td>\n",
              "      <td>1192.584516</td>\n",
              "      <td>34.533817</td>\n",
              "      <td>58.205287</td>\n",
              "      <td>55.965713</td>\n",
              "      <td>0.000000</td>\n",
              "      <td>0.194555</td>\n",
              "      <td>1.685458</td>\n",
              "      <td>0.593311</td>\n",
              "      <td>1.055948e-09</td>\n",
              "      <td>0.000032</td>\n",
              "      <td>0.000044</td>\n",
              "      <td>0.000034</td>\n",
              "      <td>0.000017</td>\n",
              "      <td>0.935545</td>\n",
              "      <td>0.819613</td>\n",
              "      <td>0.744732</td>\n",
              "      <td>1.0</td>\n",
              "      <td>1.0</td>\n",
              "      <td>1.0</td>\n",
              "      <td>1.0</td>\n",
              "      <td>192.0</td>\n",
              "      <td>168.0</td>\n",
              "      <td>20.0</td>\n",
              "      <td>207.0</td>\n",
              "      <td>2020.0</td>\n",
              "      <td>4.0</td>\n",
              "      <td>1.0</td>\n",
              "      <td>0.0</td>\n",
              "      <td>52.0</td>\n",
              "      <td>33.0</td>\n",
              "      <td>1</td>\n",
              "      <td>1.0</td>\n",
              "    </tr>\n",
              "    <tr>\n",
              "      <th>249835</th>\n",
              "      <td>443.0</td>\n",
              "      <td>33926.0</td>\n",
              "      <td>30.951614</td>\n",
              "      <td>23514.0</td>\n",
              "      <td>7.597019e+02</td>\n",
              "      <td>13884.0</td>\n",
              "      <td>448.571115</td>\n",
              "      <td>8107.633456</td>\n",
              "      <td>90.042398</td>\n",
              "      <td>121.029126</td>\n",
              "      <td>87.0</td>\n",
              "      <td>87.0</td>\n",
              "      <td>1.133770</td>\n",
              "      <td>0.377923</td>\n",
              "      <td>0.743973</td>\n",
              "      <td>104.402829</td>\n",
              "      <td>10.217770</td>\n",
              "      <td>14.273048</td>\n",
              "      <td>15.469587</td>\n",
              "      <td>0.000000</td>\n",
              "      <td>-0.351311</td>\n",
              "      <td>1.396885</td>\n",
              "      <td>0.715879</td>\n",
              "      <td>3.638538e-08</td>\n",
              "      <td>0.000191</td>\n",
              "      <td>0.000075</td>\n",
              "      <td>0.000037</td>\n",
              "      <td>0.000021</td>\n",
              "      <td>0.599889</td>\n",
              "      <td>0.283843</td>\n",
              "      <td>2.538492</td>\n",
              "      <td>1.0</td>\n",
              "      <td>1.0</td>\n",
              "      <td>1.0</td>\n",
              "      <td>1.0</td>\n",
              "      <td>192.0</td>\n",
              "      <td>168.0</td>\n",
              "      <td>20.0</td>\n",
              "      <td>207.0</td>\n",
              "      <td>2020.0</td>\n",
              "      <td>4.0</td>\n",
              "      <td>1.0</td>\n",
              "      <td>0.0</td>\n",
              "      <td>54.0</td>\n",
              "      <td>34.0</td>\n",
              "      <td>1</td>\n",
              "      <td>1.0</td>\n",
              "    </tr>\n",
              "  </tbody>\n",
              "</table>\n",
              "<p>1167136 rows × 47 columns</p>\n",
              "</div>"
            ],
            "text/plain": [
              "        SourcePort  DestinationPort    Duration  ...  Second  Label1  Label2\n",
              "0            443.0          51041.0    4.544040  ...     1.0       0    -1.0\n",
              "1          51043.0            443.0    8.171041  ...     3.0       0    -1.0\n",
              "2          51021.0            443.0    0.033776  ...     3.0       0    -1.0\n",
              "3          50308.0            443.0    0.060723  ...     3.0       0    -1.0\n",
              "4          50983.0            443.0    0.019545  ...     3.0       0    -1.0\n",
              "...            ...              ...         ...  ...     ...     ...     ...\n",
              "249831       443.0          33926.0  120.653838  ...    31.0       1     1.0\n",
              "249832       443.0          33926.0  120.718680  ...    32.0       1     1.0\n",
              "249833       443.0          33926.0  120.645723  ...    33.0       1     1.0\n",
              "249834       443.0          33926.0  120.652326  ...    33.0       1     1.0\n",
              "249835       443.0          33926.0   30.951614  ...    34.0       1     1.0\n",
              "\n",
              "[1167136 rows x 47 columns]"
            ]
          },
          "metadata": {
            "tags": []
          },
          "execution_count": 10
        }
      ]
    },
    {
      "cell_type": "markdown",
      "metadata": {
        "id": "5peElbOFvvcR"
      },
      "source": [
        "## Feature Engineering"
      ]
    },
    {
      "cell_type": "code",
      "metadata": {
        "id": "DjkQInzfv09f"
      },
      "source": [
        "df_proc = df_combined.drop([col for col in df_combined.columns[df_combined.isnull().sum() != 0]], axis = 1)"
      ],
      "execution_count": 11,
      "outputs": []
    },
    {
      "cell_type": "code",
      "metadata": {
        "colab": {
          "base_uri": "https://localhost:8080/",
          "height": 807
        },
        "id": "hAqtRpJUwJ3L",
        "outputId": "4dc6555e-bfcd-4697-f0e1-c53827ba2f58"
      },
      "source": [
        "fig = plt.figure(figsize=(10, 10))\n",
        "sns.heatmap(df_proc.corr())"
      ],
      "execution_count": 12,
      "outputs": [
        {
          "output_type": "execute_result",
          "data": {
            "text/plain": [
              "<matplotlib.axes._subplots.AxesSubplot at 0x7fe636e8ec50>"
            ]
          },
          "metadata": {
            "tags": []
          },
          "execution_count": 12
        },
        {
          "output_type": "display_data",
          "data": {
            "image/png": "[encoded data removed]",
            "text/plain": [
              "<Figure size 720x720 with 2 Axes>"
            ]
          },
          "metadata": {
            "tags": [],
            "needs_background": "light"
          }
        }
      ]
    },
    {
      "cell_type": "code",
      "metadata": {
        "colab": {
          "base_uri": "https://localhost:8080/"
        },
        "id": "DjOhT4MDyBN-",
        "outputId": "14f79d1a-4d8f-45bb-df19-5d2033028a54"
      },
      "source": [
        "df_proc.corr().Label1.sort_values(ascending = False)[:10]"
      ],
      "execution_count": 13,
      "outputs": [
        {
          "output_type": "execute_result",
          "data": {
            "text/plain": [
              "Label1                          1.000000\n",
              "Label2                          0.988286\n",
              "Day                             0.751553\n",
              "Duration                        0.534891\n",
              "PacketTimeStandardDeviation     0.501824\n",
              "PacketTimeMean                  0.485498\n",
              "PacketTimeMedian                0.412639\n",
              "PacketTimeVariance              0.396327\n",
              "Year                            0.303794\n",
              "ResponseTimeTimeSkewFromMode    0.281496\n",
              "Name: Label1, dtype: float64"
            ]
          },
          "metadata": {
            "tags": []
          },
          "execution_count": 13
        }
      ]
    },
    {
      "cell_type": "code",
      "metadata": {
        "colab": {
          "base_uri": "https://localhost:8080/",
          "height": 334
        },
        "id": "UQEbCOvSyOuL",
        "outputId": "b140f2c0-8f83-482b-c07a-c11c60f2083d"
      },
      "source": [
        "fig = plt.figure(figsize=(8, 5))\n",
        "sns.countplot(df_proc.Day, hue = df_proc.Label2)\n",
        "plt.xticks([])\n",
        "plt.legend(['Non-DoH', 'Benign-DoH', 'Malicious-DoH'])"
      ],
      "execution_count": 14,
      "outputs": [
        {
          "output_type": "execute_result",
          "data": {
            "text/plain": [
              "<matplotlib.legend.Legend at 0x7fe62f51c0d0>"
            ]
          },
          "metadata": {
            "tags": []
          },
          "execution_count": 14
        },
        {
          "output_type": "display_data",
          "data": {
            "image/png": "[encoded data removed]",
            "text/plain": [
              "<Figure size 576x360 with 1 Axes>"
            ]
          },
          "metadata": {
            "tags": [],
            "needs_background": "light"
          }
        }
      ]
    },
    {
      "cell_type": "markdown",
      "metadata": {
        "id": "DXNFdlxkFsu9"
      },
      "source": [
        "From the above histogram, it is inferrable that the majority of the Non-DoH samples were recorded in the first half of the month(s). Where as the DoH samples were recorded in the second half of the month(s). <br>\n",
        "Even though a strong relation between time stamp and the target variable is found, this relation is erroneous, as a packet request type does not depend on it's timestamp. <br> <br>\n",
        "Hence the features corresponding to timestamps are to be dropped."
      ]
    },
    {
      "cell_type": "code",
      "metadata": {
        "id": "udg0htzl4G_i"
      },
      "source": [
        "df_proc = df_proc.drop(['Second', 'Minute', 'Hour', 'Day', 'Month', 'Year'], axis = 1)"
      ],
      "execution_count": 15,
      "outputs": []
    },
    {
      "cell_type": "code",
      "metadata": {
        "colab": {
          "base_uri": "https://localhost:8080/",
          "height": 807
        },
        "id": "RNBLXRFQ65w_",
        "outputId": "af94d6c0-ca53-4a8e-e463-ef0b2c7ff211"
      },
      "source": [
        "fig = plt.figure(figsize=(10, 10))\n",
        "sns.heatmap(df_proc.corr()[df_proc.corr()>0.5])"
      ],
      "execution_count": 16,
      "outputs": [
        {
          "output_type": "execute_result",
          "data": {
            "text/plain": [
              "<matplotlib.axes._subplots.AxesSubplot at 0x7fe616c41450>"
            ]
          },
          "metadata": {
            "tags": []
          },
          "execution_count": 16
        },
        {
          "output_type": "display_data",
          "data": {
            "image/png": "[encoded data removed]",
            "text/plain": [
              "<Figure size 720x720 with 2 Axes>"
            ]
          },
          "metadata": {
            "tags": [],
            "needs_background": "light"
          }
        }
      ]
    },
    {
      "cell_type": "markdown",
      "metadata": {
        "id": "7KjGKqW5Jhra"
      },
      "source": [
        "There are multiple derivative features of packet length and packet time, and are highly correlated with each other. It is important to remove the highly correlated variables due to the following 2 reasons: <br>\n",
        "1. The loss function becomes ellipsoidal, causing zig-zag and late convergence\n",
        "2. Requires more computational power "
      ]
    },
    {
      "cell_type": "code",
      "metadata": {
        "colab": {
          "base_uri": "https://localhost:8080/"
        },
        "id": "1cSw-n_9S7Iw",
        "outputId": "d1461398-ee72-480a-bd7e-0942e7a0921c"
      },
      "source": [
        "df_proc.columns"
      ],
      "execution_count": 17,
      "outputs": [
        {
          "output_type": "execute_result",
          "data": {
            "text/plain": [
              "Index(['SourcePort', 'DestinationPort', 'Duration', 'FlowBytesSent',\n",
              "       'FlowSentRate', 'FlowBytesReceived', 'FlowReceivedRate',\n",
              "       'PacketLengthVariance', 'PacketLengthStandardDeviation',\n",
              "       'PacketLengthMean', 'PacketLengthMedian', 'PacketLengthMode',\n",
              "       'PacketLengthSkewFromMedian', 'PacketLengthSkewFromMode',\n",
              "       'PacketLengthCoefficientofVariation', 'PacketTimeVariance',\n",
              "       'PacketTimeStandardDeviation', 'PacketTimeMean', 'PacketTimeMedian',\n",
              "       'PacketTimeMode', 'PacketTimeSkewFromMedian', 'PacketTimeSkewFromMode',\n",
              "       'PacketTimeCoefficientofVariation', 'ResponseTimeTimeVariance',\n",
              "       'ResponseTimeTimeStandardDeviation', 'ResponseTimeTimeMean',\n",
              "       'ResponseTimeTimeMode', 'ResponseTimeTimeSkewFromMode',\n",
              "       'ResponseTimeTimeCoefficientofVariation', 'SourceIP1', 'SourceIP2',\n",
              "       'SourceIP3', 'SourceIP4', 'DestinationIP1', 'DestinationIP2',\n",
              "       'DestinationIP3', 'DestinationIP4', 'Label1', 'Label2'],\n",
              "      dtype='object')"
            ]
          },
          "metadata": {
            "tags": []
          },
          "execution_count": 17
        }
      ]
    },
    {
      "cell_type": "code",
      "metadata": {
        "colab": {
          "base_uri": "https://localhost:8080/"
        },
        "id": "2TwYqe_iJbNc",
        "outputId": "302497ce-a992-4718-8194-b1f8924c652b"
      },
      "source": [
        "df_proc.corr().Duration.sort_values(ascending = False)[:7]"
      ],
      "execution_count": 18,
      "outputs": [
        {
          "output_type": "execute_result",
          "data": {
            "text/plain": [
              "Duration                       1.000000\n",
              "PacketTimeStandardDeviation    0.959333\n",
              "PacketTimeMean                 0.922139\n",
              "PacketTimeVariance             0.900179\n",
              "PacketTimeMedian               0.819352\n",
              "Label2                         0.541339\n",
              "Label1                         0.534891\n",
              "Name: Duration, dtype: float64"
            ]
          },
          "metadata": {
            "tags": []
          },
          "execution_count": 18
        }
      ]
    },
    {
      "cell_type": "code",
      "metadata": {
        "colab": {
          "base_uri": "https://localhost:8080/"
        },
        "id": "jU7R2DhVTKxY",
        "outputId": "10df644e-8332-48b7-c5f1-a775bc6a6a99"
      },
      "source": [
        "df_proc.corr().PacketLengthMean.sort_values(ascending = False)[:7]"
      ],
      "execution_count": 19,
      "outputs": [
        {
          "output_type": "execute_result",
          "data": {
            "text/plain": [
              "PacketLengthMean                      1.000000\n",
              "PacketLengthStandardDeviation         0.896087\n",
              "PacketLengthVariance                  0.757116\n",
              "PacketLengthMedian                    0.617715\n",
              "PacketLengthMode                      0.469033\n",
              "PacketLengthCoefficientofVariation    0.401105\n",
              "ResponseTimeTimeSkewFromMode          0.390470\n",
              "Name: PacketLengthMean, dtype: float64"
            ]
          },
          "metadata": {
            "tags": []
          },
          "execution_count": 19
        }
      ]
    },
    {
      "cell_type": "code",
      "metadata": {
        "id": "9TPJx8tfT_gO"
      },
      "source": [
        "# The correlated variables are dropped\n",
        "\n",
        "df_proc = df_proc.drop(['PacketTimeStandardDeviation', 'PacketTimeMean', 'PacketTimeVariance', 'PacketTimeMedian', \n",
        "                        'PacketLengthStandardDeviation', 'PacketLengthVariance', 'PacketLengthMedian',\n",
        "                        'ResponseTimeTimeStandardDeviation', 'ResponseTimeTimeMode', 'PacketLengthSkewFromMedian'], axis = 1)"
      ],
      "execution_count": 20,
      "outputs": []
    },
    {
      "cell_type": "code",
      "metadata": {
        "colab": {
          "base_uri": "https://localhost:8080/",
          "height": 807
        },
        "id": "JoWl-EQFTsx6",
        "outputId": "6dd6e9dd-6e66-4905-8893-7888b9a193a4"
      },
      "source": [
        "fig = plt.figure(figsize=(10, 10))\n",
        "sns.heatmap(df_proc.corr())"
      ],
      "execution_count": 21,
      "outputs": [
        {
          "output_type": "execute_result",
          "data": {
            "text/plain": [
              "<matplotlib.axes._subplots.AxesSubplot at 0x7fe62bcc7bd0>"
            ]
          },
          "metadata": {
            "tags": []
          },
          "execution_count": 21
        },
        {
          "output_type": "display_data",
          "data": {
            "image/png": "[encoded data removed]",
            "text/plain": [
              "<Figure size 720x720 with 2 Axes>"
            ]
          },
          "metadata": {
            "tags": [],
            "needs_background": "light"
          }
        }
      ]
    },
    {
      "cell_type": "markdown",
      "metadata": {
        "id": "8UhTdWoVftIZ"
      },
      "source": [
        "Even though SourceIP1 and SourceIP2 have high correlatation, they are independent of each other"
      ]
    },
    {
      "cell_type": "code",
      "metadata": {
        "colab": {
          "base_uri": "https://localhost:8080/"
        },
        "id": "EyeTNf5xW5mo",
        "outputId": "7b91dc09-7179-457f-f472-9c26b81f3f90"
      },
      "source": [
        "print('Columns of the dataframe')\n",
        "print('------------------------------------------------------------------')\n",
        "print(df_proc.columns)"
      ],
      "execution_count": 22,
      "outputs": [
        {
          "output_type": "stream",
          "text": [
            "Columns of the dataframe\n",
            "------------------------------------------------------------------\n",
            "Index(['SourcePort', 'DestinationPort', 'Duration', 'FlowBytesSent',\n",
            "       'FlowSentRate', 'FlowBytesReceived', 'FlowReceivedRate',\n",
            "       'PacketLengthMean', 'PacketLengthMode', 'PacketLengthSkewFromMode',\n",
            "       'PacketLengthCoefficientofVariation', 'PacketTimeMode',\n",
            "       'PacketTimeSkewFromMedian', 'PacketTimeSkewFromMode',\n",
            "       'PacketTimeCoefficientofVariation', 'ResponseTimeTimeVariance',\n",
            "       'ResponseTimeTimeMean', 'ResponseTimeTimeSkewFromMode',\n",
            "       'ResponseTimeTimeCoefficientofVariation', 'SourceIP1', 'SourceIP2',\n",
            "       'SourceIP3', 'SourceIP4', 'DestinationIP1', 'DestinationIP2',\n",
            "       'DestinationIP3', 'DestinationIP4', 'Label1', 'Label2'],\n",
            "      dtype='object')\n"
          ],
          "name": "stdout"
        }
      ]
    },
    {
      "cell_type": "code",
      "metadata": {
        "id": "KVrboLOl_LQP"
      },
      "source": [
        "task1x = df_proc.drop(['Label1', 'Label2'], axis = 1)\n",
        "task1y = df_proc['Label1']\n",
        "\n",
        "task2 = df_proc.loc[df_proc.Label2 != -1]\n",
        "task2x = task2.drop(['Label1', 'Label2'], axis = 1)\n",
        "task2y = task2['Label2']"
      ],
      "execution_count": 23,
      "outputs": []
    },
    {
      "cell_type": "code",
      "metadata": {
        "id": "7YI3PVJYQepK"
      },
      "source": [
        "shuffled1 = torch.randperm(len(task1x))\n",
        "\n",
        "# 90 % training data\n",
        "# 10 % validation data\n",
        "\n",
        "train_ind1 = shuffled1[:-len(shuffled1)//10]\n",
        "valid_ind1 = shuffled1[-len(shuffled1)//10:]\n",
        "\n",
        "shuffled2 = torch.randperm(len(task2))\n",
        "train_ind2 = shuffled2[:-len(shuffled2)//10]\n",
        "valid_ind2 = shuffled2[-len(shuffled2)//10:]"
      ],
      "execution_count": 24,
      "outputs": []
    },
    {
      "cell_type": "code",
      "metadata": {
        "id": "WMHEtctbHoFN"
      },
      "source": [
        "tx1 = torch.tensor(task1x.values.astype(np.float32))[train_ind1]\n",
        "ty1 = torch.tensor(task1y.values.astype(np.float32))[train_ind1].reshape((len(train_ind1), 1))\n",
        "vx1 = torch.tensor(task1x.values.astype(np.float32))[valid_ind1]\n",
        "vy1 = torch.tensor(task1y.values.astype(np.float32))[valid_ind1].reshape((len(valid_ind1), 1))\n",
        "\n",
        "tx2 = torch.tensor(task2x.values.astype(np.float32))[train_ind2]\n",
        "ty2 = torch.tensor(task2y.values.astype(np.float32))[train_ind2].reshape((len(train_ind2), 1))\n",
        "vx2 = torch.tensor(task2x.values.astype(np.float32))[valid_ind2]\n",
        "vy2 = torch.tensor(task2y.values.astype(np.float32))[valid_ind2].reshape((len(valid_ind2), 1))"
      ],
      "execution_count": 25,
      "outputs": []
    },
    {
      "cell_type": "code",
      "metadata": {
        "colab": {
          "base_uri": "https://localhost:8080/"
        },
        "id": "XEVA35Uhtohq",
        "outputId": "b0377e5d-2ad0-47d6-84aa-33ca08b91d9c"
      },
      "source": [
        "print('Dataset 1')\n",
        "print('Train X Shape:', tx1.shape, '; Valid X shape:', vx1.shape)\n",
        "print('Train Y Shape:', ty1.shape, '; Valid Y shape:', vy1.shape)\n",
        "\n",
        "print('\\nDataset 2')\n",
        "print('Train X Shape:', tx2.shape, '; Valid X shape:', vx2.shape)\n",
        "print('Train Y Shape:', ty2.shape, '; Valid Y shape:', vy2.shape)\n"
      ],
      "execution_count": 26,
      "outputs": [
        {
          "output_type": "stream",
          "text": [
            "Dataset 1\n",
            "Train X Shape: torch.Size([1050422, 27]) ; Valid X shape: torch.Size([116714, 27])\n",
            "Train Y Shape: torch.Size([1050422, 1]) ; Valid Y shape: torch.Size([116714, 1])\n",
            "\n",
            "Dataset 2\n",
            "Train X Shape: torch.Size([242678, 27]) ; Valid X shape: torch.Size([26965, 27])\n",
            "Train Y Shape: torch.Size([242678, 1]) ; Valid Y shape: torch.Size([26965, 1])\n"
          ],
          "name": "stdout"
        }
      ]
    },
    {
      "cell_type": "code",
      "metadata": {
        "id": "vWn6H-_vNegp"
      },
      "source": [
        ""
      ],
      "execution_count": 26,
      "outputs": []
    },
    {
      "cell_type": "markdown",
      "metadata": {
        "id": "9Sb8s1Bct769"
      },
      "source": [
        "## Task 1"
      ]
    },
    {
      "cell_type": "code",
      "metadata": {
        "colab": {
          "base_uri": "https://localhost:8080/"
        },
        "id": "weWDB026uHML",
        "outputId": "d84ff7f7-9586-462c-bd64-9c3be7186545"
      },
      "source": [
        "Logistic_Reg_Task1 = make_pipeline(StandardScaler(), LogisticRegression())\n",
        "Logistic_Reg_Task1.fit(tx1, ty1)\n",
        "\n",
        "pred = Logistic_Reg_Task1.predict(vx1)\n",
        "print(classification_report(vy1, pred))"
      ],
      "execution_count": 27,
      "outputs": [
        {
          "output_type": "stream",
          "text": [
            "              precision    recall  f1-score   support\n",
            "\n",
            "         0.0       0.98      0.99      0.98     89535\n",
            "         1.0       0.95      0.95      0.95     27179\n",
            "\n",
            "    accuracy                           0.98    116714\n",
            "   macro avg       0.97      0.97      0.97    116714\n",
            "weighted avg       0.98      0.98      0.98    116714\n",
            "\n"
          ],
          "name": "stdout"
        }
      ]
    },
    {
      "cell_type": "code",
      "metadata": {
        "colab": {
          "base_uri": "https://localhost:8080/"
        },
        "id": "Pw5nhBbLLRc0",
        "outputId": "26c938f8-7832-48ed-f688-2c6ebaf580c4"
      },
      "source": [
        "importance = Logistic_Reg_Task1[1].coef_[0]\n",
        "feat_imp = {}\n",
        "\n",
        "for i,v in zip(df_proc.drop(['Label1', 'Label2'], axis = 1).columns, importance):\n",
        "    feat_imp[i] = v\n",
        "    print(i, ':', np.round(v, 3))"
      ],
      "execution_count": 28,
      "outputs": [
        {
          "output_type": "stream",
          "text": [
            "SourcePort : -1.426\n",
            "DestinationPort : -0.549\n",
            "Duration : 1.643\n",
            "FlowBytesSent : 1.185\n",
            "FlowSentRate : 0.021\n",
            "FlowBytesReceived : -2.232\n",
            "FlowReceivedRate : 0.03\n",
            "PacketLengthMean : -1.948\n",
            "PacketLengthMode : -1.373\n",
            "PacketLengthSkewFromMode : -0.257\n",
            "PacketLengthCoefficientofVariation : 0.741\n",
            "PacketTimeMode : -0.201\n",
            "PacketTimeSkewFromMedian : 0.173\n",
            "PacketTimeSkewFromMode : 0.379\n",
            "PacketTimeCoefficientofVariation : -0.335\n",
            "ResponseTimeTimeVariance : -0.372\n",
            "ResponseTimeTimeMean : 0.34\n",
            "ResponseTimeTimeSkewFromMode : 0.19\n",
            "ResponseTimeTimeCoefficientofVariation : 1.772\n",
            "SourceIP1 : -0.084\n",
            "SourceIP2 : -1.552\n",
            "SourceIP3 : -0.249\n",
            "SourceIP4 : 1.175\n",
            "DestinationIP1 : -0.733\n",
            "DestinationIP2 : -1.941\n",
            "DestinationIP3 : -1.655\n",
            "DestinationIP4 : -1.191\n"
          ],
          "name": "stdout"
        }
      ]
    },
    {
      "cell_type": "code",
      "metadata": {
        "id": "qXUuG_1hLRc2"
      },
      "source": [
        "sorted_feat = sorted(feat_imp.items(), key=lambda x:x[1])\n",
        "\n",
        "class0_imp = sorted_feat[:5]\n",
        "class1_imp = sorted_feat[-5:]"
      ],
      "execution_count": 29,
      "outputs": []
    },
    {
      "cell_type": "code",
      "metadata": {
        "colab": {
          "base_uri": "https://localhost:8080/",
          "height": 388
        },
        "id": "7WTKBSbxLRc3",
        "outputId": "1e5dc304-910c-47cd-c54a-2954c9d4ffab"
      },
      "source": [
        "fig1 = plt.figure(figsize=(8, 5))\n",
        "ax = fig1.add_subplot(111)\n",
        "\n",
        "ax.bar([i[0] for i in class0_imp], [i[1] for i in class0_imp])\n",
        "fig1.suptitle('Task 1 - Top 5 Non-DoH features')\n",
        "ax.set_xticklabels(['Flow_Bytes_Rec', 'Pack_Len_Mean', 'DestIP2', 'DestIP3', 'SourceIP2'])\n",
        "ax.set_ylabel('Features')\n",
        "ax.set_xlabel('Importance')\n"
      ],
      "execution_count": 30,
      "outputs": [
        {
          "output_type": "execute_result",
          "data": {
            "text/plain": [
              "Text(0.5, 0, 'Importance')"
            ]
          },
          "metadata": {
            "tags": []
          },
          "execution_count": 30
        },
        {
          "output_type": "display_data",
          "data": {
            "image/png": "[encoded data removed]",
            "text/plain": [
              "<Figure size 576x360 with 1 Axes>"
            ]
          },
          "metadata": {
            "tags": [],
            "needs_background": "light"
          }
        }
      ]
    },
    {
      "cell_type": "markdown",
      "metadata": {
        "id": "I4Tvjr6QITiS"
      },
      "source": [
        "The traffic generated by accessing a website that uses HTTPS protocol is captured and labeled as non-DoH traffic. These are TTPS requests done in port 443, unlike DNS requests HTTPS requests vary depending on the user, hence it depends more on the FlowBytesRecieved and PacketLength. \n"
      ]
    },
    {
      "cell_type": "code",
      "metadata": {
        "colab": {
          "base_uri": "https://localhost:8080/",
          "height": 388
        },
        "id": "8EQ0_YcfLRc5",
        "outputId": "84c5b190-8b94-4a12-e74f-a89d2b6bd430"
      },
      "source": [
        "fig1 = plt.figure(figsize=(8, 5))\n",
        "ax = fig1.add_subplot(111)\n",
        "\n",
        "ax.bar([i[0] for i in class1_imp], [i[1] for i in class1_imp])\n",
        "fig1.suptitle('Task 1 - Top 5 DoH features')\n",
        "ax.set_xticklabels(['Pack_len_coef_var', 'SourceIP4', 'Flow_bytes_Sent', 'Duration', 'Resp_time_coeff_var'])\n",
        "ax.set_ylabel('Features')\n",
        "ax.set_xlabel('Importance')\n"
      ],
      "execution_count": 31,
      "outputs": [
        {
          "output_type": "execute_result",
          "data": {
            "text/plain": [
              "Text(0.5, 0, 'Importance')"
            ]
          },
          "metadata": {
            "tags": []
          },
          "execution_count": 31
        },
        {
          "output_type": "display_data",
          "data": {
            "image/png": "[encoded data removed]",
            "text/plain": [
              "<Figure size 576x360 with 1 Axes>"
            ]
          },
          "metadata": {
            "tags": [],
            "needs_background": "light"
          }
        }
      ]
    },
    {
      "cell_type": "markdown",
      "metadata": {
        "id": "WtduuLRiIabg"
      },
      "source": [
        "The influence of the response time coefficient is justified as DoH operates over TCP, which can re-transmit data very quickly in the case of packet losses, whereas traditional DNS clients use UDP and wait for a fixed time before retrying. So in lossy networks, DoH may outperform UDP-based DNS. Hence the dependency is more on the RTCV and duration. Added to this the lesser number of DoH servers may also contribute to a longer delay when compared to Non-DoH requests, which have a comparatively higher number of servers."
      ]
    },
    {
      "cell_type": "markdown",
      "metadata": {
        "id": "x141Wtf9uXaJ"
      },
      "source": [
        "## Task 2"
      ]
    },
    {
      "cell_type": "code",
      "metadata": {
        "id": "kE4rLL_guXaK",
        "colab": {
          "base_uri": "https://localhost:8080/"
        },
        "outputId": "251d42ac-a848-4ecf-c21c-8247bcac7930"
      },
      "source": [
        "Logistic_Reg_Task2 = make_pipeline(StandardScaler(), LogisticRegression())\n",
        "Logistic_Reg_Task2.fit(tx2, ty2)\n",
        "\n",
        "pred = Logistic_Reg_Task2.predict(vx2)\n",
        "print(classification_report(vy2, pred))"
      ],
      "execution_count": 32,
      "outputs": [
        {
          "output_type": "stream",
          "text": [
            "              precision    recall  f1-score   support\n",
            "\n",
            "         0.0       0.94      0.77      0.85      2029\n",
            "         1.0       0.98      1.00      0.99     24936\n",
            "\n",
            "    accuracy                           0.98     26965\n",
            "   macro avg       0.96      0.88      0.92     26965\n",
            "weighted avg       0.98      0.98      0.98     26965\n",
            "\n"
          ],
          "name": "stdout"
        }
      ]
    },
    {
      "cell_type": "code",
      "metadata": {
        "id": "Z3gzA7bvVm3p",
        "colab": {
          "base_uri": "https://localhost:8080/"
        },
        "outputId": "0b7ffff8-d3fb-41b8-f8b9-bc7ec5a3fa87"
      },
      "source": [
        "importance = Logistic_Reg_Task2[1].coef_[0]\n",
        "feat_imp = {}\n",
        "\n",
        "for i,v in zip(df_proc.drop(['Label1', 'Label2'], axis = 1).columns, importance):\n",
        "    feat_imp[i] = v\n",
        "    print(i, ':', np.round(v, 3))"
      ],
      "execution_count": 33,
      "outputs": [
        {
          "output_type": "stream",
          "text": [
            "SourcePort : -1.377\n",
            "DestinationPort : -11.112\n",
            "Duration : 1.011\n",
            "FlowBytesSent : -0.964\n",
            "FlowSentRate : 0.636\n",
            "FlowBytesReceived : 1.229\n",
            "FlowReceivedRate : -2.746\n",
            "PacketLengthMean : 0.745\n",
            "PacketLengthMode : -0.256\n",
            "PacketLengthSkewFromMode : -0.414\n",
            "PacketLengthCoefficientofVariation : 0.941\n",
            "PacketTimeMode : -0.711\n",
            "PacketTimeSkewFromMedian : 0.034\n",
            "PacketTimeSkewFromMode : -0.075\n",
            "PacketTimeCoefficientofVariation : -0.566\n",
            "ResponseTimeTimeVariance : -1.237\n",
            "ResponseTimeTimeMean : 5.041\n",
            "ResponseTimeTimeSkewFromMode : 0.128\n",
            "ResponseTimeTimeCoefficientofVariation : -0.19\n",
            "SourceIP1 : 5.104\n",
            "SourceIP2 : 5.324\n",
            "SourceIP3 : -4.341\n",
            "SourceIP4 : 4.234\n",
            "DestinationIP1 : 14.206\n",
            "DestinationIP2 : -2.455\n",
            "DestinationIP3 : -14.597\n",
            "DestinationIP4 : 19.505\n"
          ],
          "name": "stdout"
        }
      ]
    },
    {
      "cell_type": "code",
      "metadata": {
        "id": "KZY5P5XeJ57G"
      },
      "source": [
        "sorted_feat = sorted(feat_imp.items(), key=lambda x:x[1])\n",
        "\n",
        "class0_imp = sorted_feat[:5]\n",
        "class1_imp = sorted_feat[-5:]"
      ],
      "execution_count": 34,
      "outputs": []
    },
    {
      "cell_type": "code",
      "metadata": {
        "colab": {
          "base_uri": "https://localhost:8080/",
          "height": 388
        },
        "id": "5Em-HoWxEzbe",
        "outputId": "7926332f-f27e-4a97-f6bc-d24415f0fc0d"
      },
      "source": [
        "fig1 = plt.figure(figsize=(8, 5))\n",
        "ax = fig1.add_subplot(111)\n",
        "\n",
        "ax.bar([i[0] for i in class0_imp], [i[1] for i in class0_imp])\n",
        "fig1.suptitle('Task 2 - Top 5 Benign DoH features')\n",
        "ax.set_xticklabels(['DestIP3', 'Dest_port', 'SourceIP3', 'DestIP2', 'Flow_rec_rate'])\n",
        "ax.set_ylabel('Features')\n",
        "ax.set_xlabel('Importance')\n"
      ],
      "execution_count": 35,
      "outputs": [
        {
          "output_type": "execute_result",
          "data": {
            "text/plain": [
              "Text(0.5, 0, 'Importance')"
            ]
          },
          "metadata": {
            "tags": []
          },
          "execution_count": 35
        },
        {
          "output_type": "display_data",
          "data": {
            "image/png": "[encoded data removed]",
            "text/plain": [
              "<Figure size 576x360 with 1 Axes>"
            ]
          },
          "metadata": {
            "tags": [],
            "needs_background": "light"
          }
        }
      ]
    },
    {
      "cell_type": "markdown",
      "metadata": {
        "id": "25I3_8l3Ie6e"
      },
      "source": [
        "As DoH operates only on port 443 (same as HTTPS), and only a limited number of servers support DoH (like google, Cloudflare, Quad9), hence the dependency on the destination port is justified."
      ]
    },
    {
      "cell_type": "code",
      "metadata": {
        "colab": {
          "base_uri": "https://localhost:8080/",
          "height": 388
        },
        "id": "9nBRHMy-E2z3",
        "outputId": "bbc8fe53-bf40-4718-e29a-bf6a8af841fc"
      },
      "source": [
        "fig1 = plt.figure(figsize=(8, 5))\n",
        "ax = fig1.add_subplot(111)\n",
        "\n",
        "ax.bar([i[0] for i in class1_imp], [i[1] for i in class1_imp])\n",
        "fig1.suptitle('Task 2 - Top 5 Malicious features')\n",
        "ax.set_xticklabels(['Resp_time_mean', 'SourceIP1', 'SourceIP2', 'DestIP1', 'DestIP4'])\n",
        "ax.set_ylabel('Features')\n",
        "ax.set_xlabel('Importance')\n"
      ],
      "execution_count": 36,
      "outputs": [
        {
          "output_type": "execute_result",
          "data": {
            "text/plain": [
              "Text(0.5, 0, 'Importance')"
            ]
          },
          "metadata": {
            "tags": []
          },
          "execution_count": 36
        },
        {
          "output_type": "display_data",
          "data": {
            "image/png": "[encoded data removed]",
            "text/plain": [
              "<Figure size 576x360 with 1 Axes>"
            ]
          },
          "metadata": {
            "tags": [],
            "needs_background": "light"
          }
        }
      ]
    },
    {
      "cell_type": "markdown",
      "metadata": {
        "id": "OQyLMt_6Ihzg"
      },
      "source": [
        "The DestinationIP4 of Malicious requests is predominantly ‘11’, whereas the very few requests of benign DoH requests are made from ‘11’"
      ]
    }
  ]
}